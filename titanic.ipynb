{
 "cells": [
  {
   "cell_type": "markdown",
   "id": "28db0394-d633-41a2-a9de-586acc6947bf",
   "metadata": {},
   "source": [
    "# Titanic Prediction Modelling and Analysis"
   ]
  },
  {
   "cell_type": "markdown",
   "id": "5e39185a-fdb9-46ac-90c5-467b49b25af2",
   "metadata": {
    "jp-MarkdownHeadingCollapsed": true
   },
   "source": [
    "## Importing Necessary Packages"
   ]
  },
  {
   "cell_type": "code",
   "execution_count": 1,
   "id": "6ef805ca-28da-4c40-8e61-2f3f13fdc080",
   "metadata": {},
   "outputs": [],
   "source": [
    "import numpy as np\n",
    "import pandas as pd\n",
    "import matplotlib.pyplot as plt\n",
    "import seaborn as sns\n",
    "from sklearn.preprocessing import OrdinalEncoder, OneHotEncoder, MinMaxScaler\n",
    "from sklearn.pipeline import Pipeline\n",
    "from sklearn.compose import ColumnTransformer\n",
    "from sklearn.model_selection import train_test_split\n",
    "from sklearn.linear_model import LogisticRegression\n",
    "from sklearn.tree import DecisionTreeClassifier\n",
    "from sklearn.ensemble import RandomForestClassifier\n",
    "from sklearn.metrics import accuracy_score, precision_score, recall_score"
   ]
  },
  {
   "cell_type": "markdown",
   "id": "603df442-9e13-4198-a7f4-4704b02b4d41",
   "metadata": {},
   "source": [
    "## Getting the Data"
   ]
  },
  {
   "cell_type": "code",
   "execution_count": 2,
   "id": "86d5da7a-7d56-41c5-8d0e-87e513a7288d",
   "metadata": {},
   "outputs": [],
   "source": [
    "df_raw = pd.read_csv('data/train.csv', index_col = ['PassengerId'])"
   ]
  },
  {
   "cell_type": "code",
   "execution_count": 3,
   "id": "cc1c6237-7232-466c-8c37-0961cffd0b42",
   "metadata": {},
   "outputs": [
    {
     "data": {
      "text/html": [
       "<div>\n",
       "<style scoped>\n",
       "    .dataframe tbody tr th:only-of-type {\n",
       "        vertical-align: middle;\n",
       "    }\n",
       "\n",
       "    .dataframe tbody tr th {\n",
       "        vertical-align: top;\n",
       "    }\n",
       "\n",
       "    .dataframe thead th {\n",
       "        text-align: right;\n",
       "    }\n",
       "</style>\n",
       "<table border=\"1\" class=\"dataframe\">\n",
       "  <thead>\n",
       "    <tr style=\"text-align: right;\">\n",
       "      <th></th>\n",
       "      <th>Survived</th>\n",
       "      <th>Pclass</th>\n",
       "      <th>Name</th>\n",
       "      <th>Sex</th>\n",
       "      <th>Age</th>\n",
       "      <th>SibSp</th>\n",
       "      <th>Parch</th>\n",
       "      <th>Ticket</th>\n",
       "      <th>Fare</th>\n",
       "      <th>Cabin</th>\n",
       "      <th>Embarked</th>\n",
       "    </tr>\n",
       "    <tr>\n",
       "      <th>PassengerId</th>\n",
       "      <th></th>\n",
       "      <th></th>\n",
       "      <th></th>\n",
       "      <th></th>\n",
       "      <th></th>\n",
       "      <th></th>\n",
       "      <th></th>\n",
       "      <th></th>\n",
       "      <th></th>\n",
       "      <th></th>\n",
       "      <th></th>\n",
       "    </tr>\n",
       "  </thead>\n",
       "  <tbody>\n",
       "    <tr>\n",
       "      <th>279</th>\n",
       "      <td>0</td>\n",
       "      <td>3</td>\n",
       "      <td>Rice, Master. Eric</td>\n",
       "      <td>male</td>\n",
       "      <td>7.0</td>\n",
       "      <td>4</td>\n",
       "      <td>1</td>\n",
       "      <td>382652</td>\n",
       "      <td>29.1250</td>\n",
       "      <td>NaN</td>\n",
       "      <td>Q</td>\n",
       "    </tr>\n",
       "    <tr>\n",
       "      <th>779</th>\n",
       "      <td>0</td>\n",
       "      <td>3</td>\n",
       "      <td>Kilgannon, Mr. Thomas J</td>\n",
       "      <td>male</td>\n",
       "      <td>NaN</td>\n",
       "      <td>0</td>\n",
       "      <td>0</td>\n",
       "      <td>36865</td>\n",
       "      <td>7.7375</td>\n",
       "      <td>NaN</td>\n",
       "      <td>Q</td>\n",
       "    </tr>\n",
       "    <tr>\n",
       "      <th>887</th>\n",
       "      <td>0</td>\n",
       "      <td>2</td>\n",
       "      <td>Montvila, Rev. Juozas</td>\n",
       "      <td>male</td>\n",
       "      <td>27.0</td>\n",
       "      <td>0</td>\n",
       "      <td>0</td>\n",
       "      <td>211536</td>\n",
       "      <td>13.0000</td>\n",
       "      <td>NaN</td>\n",
       "      <td>S</td>\n",
       "    </tr>\n",
       "    <tr>\n",
       "      <th>755</th>\n",
       "      <td>1</td>\n",
       "      <td>2</td>\n",
       "      <td>Herman, Mrs. Samuel (Jane Laver)</td>\n",
       "      <td>female</td>\n",
       "      <td>48.0</td>\n",
       "      <td>1</td>\n",
       "      <td>2</td>\n",
       "      <td>220845</td>\n",
       "      <td>65.0000</td>\n",
       "      <td>NaN</td>\n",
       "      <td>S</td>\n",
       "    </tr>\n",
       "    <tr>\n",
       "      <th>358</th>\n",
       "      <td>0</td>\n",
       "      <td>2</td>\n",
       "      <td>Funk, Miss. Annie Clemmer</td>\n",
       "      <td>female</td>\n",
       "      <td>38.0</td>\n",
       "      <td>0</td>\n",
       "      <td>0</td>\n",
       "      <td>237671</td>\n",
       "      <td>13.0000</td>\n",
       "      <td>NaN</td>\n",
       "      <td>S</td>\n",
       "    </tr>\n",
       "    <tr>\n",
       "      <th>362</th>\n",
       "      <td>0</td>\n",
       "      <td>2</td>\n",
       "      <td>del Carlo, Mr. Sebastiano</td>\n",
       "      <td>male</td>\n",
       "      <td>29.0</td>\n",
       "      <td>1</td>\n",
       "      <td>0</td>\n",
       "      <td>SC/PARIS 2167</td>\n",
       "      <td>27.7208</td>\n",
       "      <td>NaN</td>\n",
       "      <td>C</td>\n",
       "    </tr>\n",
       "    <tr>\n",
       "      <th>473</th>\n",
       "      <td>1</td>\n",
       "      <td>2</td>\n",
       "      <td>West, Mrs. Edwy Arthur (Ada Mary Worth)</td>\n",
       "      <td>female</td>\n",
       "      <td>33.0</td>\n",
       "      <td>1</td>\n",
       "      <td>2</td>\n",
       "      <td>C.A. 34651</td>\n",
       "      <td>27.7500</td>\n",
       "      <td>NaN</td>\n",
       "      <td>S</td>\n",
       "    </tr>\n",
       "    <tr>\n",
       "      <th>510</th>\n",
       "      <td>1</td>\n",
       "      <td>3</td>\n",
       "      <td>Lang, Mr. Fang</td>\n",
       "      <td>male</td>\n",
       "      <td>26.0</td>\n",
       "      <td>0</td>\n",
       "      <td>0</td>\n",
       "      <td>1601</td>\n",
       "      <td>56.4958</td>\n",
       "      <td>NaN</td>\n",
       "      <td>S</td>\n",
       "    </tr>\n",
       "    <tr>\n",
       "      <th>423</th>\n",
       "      <td>0</td>\n",
       "      <td>3</td>\n",
       "      <td>Zimmerman, Mr. Leo</td>\n",
       "      <td>male</td>\n",
       "      <td>29.0</td>\n",
       "      <td>0</td>\n",
       "      <td>0</td>\n",
       "      <td>315082</td>\n",
       "      <td>7.8750</td>\n",
       "      <td>NaN</td>\n",
       "      <td>S</td>\n",
       "    </tr>\n",
       "    <tr>\n",
       "      <th>206</th>\n",
       "      <td>0</td>\n",
       "      <td>3</td>\n",
       "      <td>Strom, Miss. Telma Matilda</td>\n",
       "      <td>female</td>\n",
       "      <td>2.0</td>\n",
       "      <td>0</td>\n",
       "      <td>1</td>\n",
       "      <td>347054</td>\n",
       "      <td>10.4625</td>\n",
       "      <td>G6</td>\n",
       "      <td>S</td>\n",
       "    </tr>\n",
       "  </tbody>\n",
       "</table>\n",
       "</div>"
      ],
      "text/plain": [
       "             Survived  Pclass                                     Name  \\\n",
       "PassengerId                                                              \n",
       "279                 0       3                       Rice, Master. Eric   \n",
       "779                 0       3                  Kilgannon, Mr. Thomas J   \n",
       "887                 0       2                    Montvila, Rev. Juozas   \n",
       "755                 1       2         Herman, Mrs. Samuel (Jane Laver)   \n",
       "358                 0       2                Funk, Miss. Annie Clemmer   \n",
       "362                 0       2                del Carlo, Mr. Sebastiano   \n",
       "473                 1       2  West, Mrs. Edwy Arthur (Ada Mary Worth)   \n",
       "510                 1       3                           Lang, Mr. Fang   \n",
       "423                 0       3                       Zimmerman, Mr. Leo   \n",
       "206                 0       3               Strom, Miss. Telma Matilda   \n",
       "\n",
       "                Sex   Age  SibSp  Parch         Ticket     Fare Cabin Embarked  \n",
       "PassengerId                                                                     \n",
       "279            male   7.0      4      1         382652  29.1250   NaN        Q  \n",
       "779            male   NaN      0      0          36865   7.7375   NaN        Q  \n",
       "887            male  27.0      0      0         211536  13.0000   NaN        S  \n",
       "755          female  48.0      1      2         220845  65.0000   NaN        S  \n",
       "358          female  38.0      0      0         237671  13.0000   NaN        S  \n",
       "362            male  29.0      1      0  SC/PARIS 2167  27.7208   NaN        C  \n",
       "473          female  33.0      1      2     C.A. 34651  27.7500   NaN        S  \n",
       "510            male  26.0      0      0           1601  56.4958   NaN        S  \n",
       "423            male  29.0      0      0         315082   7.8750   NaN        S  \n",
       "206          female   2.0      0      1         347054  10.4625    G6        S  "
      ]
     },
     "execution_count": 3,
     "metadata": {},
     "output_type": "execute_result"
    }
   ],
   "source": [
    "df_raw.sample(10)"
   ]
  },
  {
   "cell_type": "code",
   "execution_count": 4,
   "id": "edac90a1-bc27-4519-ab5b-f8f9867ab67c",
   "metadata": {},
   "outputs": [
    {
     "data": {
      "text/plain": [
       "(Index(['Survived', 'Pclass', 'Age', 'SibSp', 'Parch', 'Fare'], dtype='object'),\n",
       " Index(['Name', 'Sex', 'Ticket', 'Cabin', 'Embarked'], dtype='object'))"
      ]
     },
     "execution_count": 4,
     "metadata": {},
     "output_type": "execute_result"
    }
   ],
   "source": [
    "numerical = df_raw.select_dtypes(include = ['number', 'bool'])\n",
    "categorical = df_raw.select_dtypes(exclude = ['number', 'bool'])\n",
    "numerical.columns, categorical.columns"
   ]
  },
  {
   "cell_type": "markdown",
   "id": "dbd85f7b-45c1-4ebc-95b6-7b3665af5f0a",
   "metadata": {},
   "source": [
    "## Data PreProcessing"
   ]
  },
  {
   "cell_type": "markdown",
   "id": "1a365151-26ad-498b-b123-5d1635bca01e",
   "metadata": {
    "jp-MarkdownHeadingCollapsed": true
   },
   "source": [
    "### Observing The data"
   ]
  },
  {
   "cell_type": "code",
   "execution_count": 5,
   "id": "dabffe9e-09f5-4af9-8d4a-64a10374e3e1",
   "metadata": {},
   "outputs": [
    {
     "data": {
      "text/plain": [
       "0"
      ]
     },
     "execution_count": 5,
     "metadata": {},
     "output_type": "execute_result"
    }
   ],
   "source": [
    "df_raw.duplicated().sum()"
   ]
  },
  {
   "cell_type": "code",
   "execution_count": 6,
   "id": "f223a4c8-32dd-4f07-a002-70853a117de5",
   "metadata": {},
   "outputs": [
    {
     "data": {
      "text/plain": [
       "Survived      0\n",
       "Pclass        0\n",
       "Name          0\n",
       "Sex           0\n",
       "Age         177\n",
       "SibSp         0\n",
       "Parch         0\n",
       "Ticket        0\n",
       "Fare          0\n",
       "Cabin       687\n",
       "Embarked      2\n",
       "dtype: int64"
      ]
     },
     "execution_count": 6,
     "metadata": {},
     "output_type": "execute_result"
    }
   ],
   "source": [
    "df_raw.isna().sum()"
   ]
  },
  {
   "cell_type": "code",
   "execution_count": 7,
   "id": "37b6bdab-e9ab-4388-bb7e-425868e03fb9",
   "metadata": {},
   "outputs": [
    {
     "data": {
      "text/plain": [
       "(891, 11)"
      ]
     },
     "execution_count": 7,
     "metadata": {},
     "output_type": "execute_result"
    }
   ],
   "source": [
    "df_raw.shape"
   ]
  },
  {
   "cell_type": "code",
   "execution_count": 8,
   "id": "f1e21bbe-2447-4f7f-b34f-d3cb7c7fbefb",
   "metadata": {},
   "outputs": [
    {
     "name": "stdout",
     "output_type": "stream",
     "text": [
      "<class 'pandas.core.frame.DataFrame'>\n",
      "Index: 891 entries, 1 to 891\n",
      "Data columns (total 11 columns):\n",
      " #   Column    Non-Null Count  Dtype  \n",
      "---  ------    --------------  -----  \n",
      " 0   Survived  891 non-null    int64  \n",
      " 1   Pclass    891 non-null    int64  \n",
      " 2   Name      891 non-null    object \n",
      " 3   Sex       891 non-null    object \n",
      " 4   Age       714 non-null    float64\n",
      " 5   SibSp     891 non-null    int64  \n",
      " 6   Parch     891 non-null    int64  \n",
      " 7   Ticket    891 non-null    object \n",
      " 8   Fare      891 non-null    float64\n",
      " 9   Cabin     204 non-null    object \n",
      " 10  Embarked  889 non-null    object \n",
      "dtypes: float64(2), int64(4), object(5)\n",
      "memory usage: 83.5+ KB\n"
     ]
    }
   ],
   "source": [
    "df_raw.info()"
   ]
  },
  {
   "cell_type": "code",
   "execution_count": 9,
   "id": "f9a49e66-eaba-4c17-ac48-8a7e7f632560",
   "metadata": {},
   "outputs": [
    {
     "data": {
      "text/plain": [
       "Survived    1.000000\n",
       "Fare        0.257307\n",
       "Parch       0.081629\n",
       "SibSp      -0.035322\n",
       "Age        -0.077221\n",
       "Pclass     -0.338481\n",
       "Name: Survived, dtype: float64"
      ]
     },
     "execution_count": 9,
     "metadata": {},
     "output_type": "execute_result"
    }
   ],
   "source": [
    "df_raw.corr(numeric_only = True)['Survived'].sort_values(ascending = False)"
   ]
  },
  {
   "cell_type": "code",
   "execution_count": 10,
   "id": "127b42db-d75a-4718-ad34-b9d770bc1a01",
   "metadata": {},
   "outputs": [
    {
     "data": {
      "text/plain": [
       "array([nan, 'C85', 'C123', 'E46', 'G6', 'C103', 'D56', 'A6',\n",
       "       'C23 C25 C27', 'B78', 'D33', 'B30', 'C52', 'B28', 'C83', 'F33',\n",
       "       'F G73', 'E31', 'A5', 'D10 D12', 'D26', 'C110', 'B58 B60', 'E101',\n",
       "       'F E69', 'D47', 'B86', 'F2', 'C2', 'E33', 'B19', 'A7', 'C49', 'F4',\n",
       "       'A32', 'B4', 'B80', 'A31', 'D36', 'D15', 'C93', 'C78', 'D35',\n",
       "       'C87', 'B77', 'E67', 'B94', 'C125', 'C99', 'C118', 'D7', 'A19',\n",
       "       'B49', 'D', 'C22 C26', 'C106', 'C65', 'E36', 'C54',\n",
       "       'B57 B59 B63 B66', 'C7', 'E34', 'C32', 'B18', 'C124', 'C91', 'E40',\n",
       "       'T', 'C128', 'D37', 'B35', 'E50', 'C82', 'B96 B98', 'E10', 'E44',\n",
       "       'A34', 'C104', 'C111', 'C92', 'E38', 'D21', 'E12', 'E63', 'A14',\n",
       "       'B37', 'C30', 'D20', 'B79', 'E25', 'D46', 'B73', 'C95', 'B38',\n",
       "       'B39', 'B22', 'C86', 'C70', 'A16', 'C101', 'C68', 'A10', 'E68',\n",
       "       'B41', 'A20', 'D19', 'D50', 'D9', 'A23', 'B50', 'A26', 'D48',\n",
       "       'E58', 'C126', 'B71', 'B51 B53 B55', 'D49', 'B5', 'B20', 'F G63',\n",
       "       'C62 C64', 'E24', 'C90', 'C45', 'E8', 'B101', 'D45', 'C46', 'D30',\n",
       "       'E121', 'D11', 'E77', 'F38', 'B3', 'D6', 'B82 B84', 'D17', 'A36',\n",
       "       'B102', 'B69', 'E49', 'C47', 'D28', 'E17', 'A24', 'C50', 'B42',\n",
       "       'C148'], dtype=object)"
      ]
     },
     "execution_count": 10,
     "metadata": {},
     "output_type": "execute_result"
    }
   ],
   "source": [
    "df_raw.Cabin.unique()"
   ]
  },
  {
   "cell_type": "markdown",
   "id": "60273c54-1006-402f-90f0-101bfbb15539",
   "metadata": {
    "jp-MarkdownHeadingCollapsed": true
   },
   "source": [
    "### Cleaning the Cabin column"
   ]
  },
  {
   "cell_type": "code",
   "execution_count": 11,
   "id": "f9421ab8-ffd7-40e4-ac99-e82214b7158b",
   "metadata": {},
   "outputs": [],
   "source": [
    "# df_raw = df_raw.drop('Cabin', axis = 1)\n",
    "df_raw['Cabin'].fillna('Z', inplace =True)"
   ]
  },
  {
   "cell_type": "code",
   "execution_count": 12,
   "id": "411b0de6-e0b8-40ad-a9b0-77ae4127f0a4",
   "metadata": {},
   "outputs": [
    {
     "data": {
      "text/html": [
       "<div>\n",
       "<style scoped>\n",
       "    .dataframe tbody tr th:only-of-type {\n",
       "        vertical-align: middle;\n",
       "    }\n",
       "\n",
       "    .dataframe tbody tr th {\n",
       "        vertical-align: top;\n",
       "    }\n",
       "\n",
       "    .dataframe thead th {\n",
       "        text-align: right;\n",
       "    }\n",
       "</style>\n",
       "<table border=\"1\" class=\"dataframe\">\n",
       "  <thead>\n",
       "    <tr style=\"text-align: right;\">\n",
       "      <th></th>\n",
       "      <th>Survived</th>\n",
       "      <th>Pclass</th>\n",
       "      <th>Name</th>\n",
       "      <th>Sex</th>\n",
       "      <th>Age</th>\n",
       "      <th>SibSp</th>\n",
       "      <th>Parch</th>\n",
       "      <th>Ticket</th>\n",
       "      <th>Fare</th>\n",
       "      <th>Cabin</th>\n",
       "      <th>Embarked</th>\n",
       "    </tr>\n",
       "    <tr>\n",
       "      <th>PassengerId</th>\n",
       "      <th></th>\n",
       "      <th></th>\n",
       "      <th></th>\n",
       "      <th></th>\n",
       "      <th></th>\n",
       "      <th></th>\n",
       "      <th></th>\n",
       "      <th></th>\n",
       "      <th></th>\n",
       "      <th></th>\n",
       "      <th></th>\n",
       "    </tr>\n",
       "  </thead>\n",
       "  <tbody>\n",
       "    <tr>\n",
       "      <th>1</th>\n",
       "      <td>0</td>\n",
       "      <td>3</td>\n",
       "      <td>Braund, Mr. Owen Harris</td>\n",
       "      <td>male</td>\n",
       "      <td>22.0</td>\n",
       "      <td>1</td>\n",
       "      <td>0</td>\n",
       "      <td>A/5 21171</td>\n",
       "      <td>7.2500</td>\n",
       "      <td>Z</td>\n",
       "      <td>S</td>\n",
       "    </tr>\n",
       "    <tr>\n",
       "      <th>2</th>\n",
       "      <td>1</td>\n",
       "      <td>1</td>\n",
       "      <td>Cumings, Mrs. John Bradley (Florence Briggs Th...</td>\n",
       "      <td>female</td>\n",
       "      <td>38.0</td>\n",
       "      <td>1</td>\n",
       "      <td>0</td>\n",
       "      <td>PC 17599</td>\n",
       "      <td>71.2833</td>\n",
       "      <td>C85</td>\n",
       "      <td>C</td>\n",
       "    </tr>\n",
       "    <tr>\n",
       "      <th>3</th>\n",
       "      <td>1</td>\n",
       "      <td>3</td>\n",
       "      <td>Heikkinen, Miss. Laina</td>\n",
       "      <td>female</td>\n",
       "      <td>26.0</td>\n",
       "      <td>0</td>\n",
       "      <td>0</td>\n",
       "      <td>STON/O2. 3101282</td>\n",
       "      <td>7.9250</td>\n",
       "      <td>Z</td>\n",
       "      <td>S</td>\n",
       "    </tr>\n",
       "  </tbody>\n",
       "</table>\n",
       "</div>"
      ],
      "text/plain": [
       "             Survived  Pclass  \\\n",
       "PassengerId                     \n",
       "1                   0       3   \n",
       "2                   1       1   \n",
       "3                   1       3   \n",
       "\n",
       "                                                          Name     Sex   Age  \\\n",
       "PassengerId                                                                    \n",
       "1                                      Braund, Mr. Owen Harris    male  22.0   \n",
       "2            Cumings, Mrs. John Bradley (Florence Briggs Th...  female  38.0   \n",
       "3                                       Heikkinen, Miss. Laina  female  26.0   \n",
       "\n",
       "             SibSp  Parch            Ticket     Fare Cabin Embarked  \n",
       "PassengerId                                                          \n",
       "1                1      0         A/5 21171   7.2500     Z        S  \n",
       "2                1      0          PC 17599  71.2833   C85        C  \n",
       "3                0      0  STON/O2. 3101282   7.9250     Z        S  "
      ]
     },
     "execution_count": 12,
     "metadata": {},
     "output_type": "execute_result"
    }
   ],
   "source": [
    "df_raw.head(3)"
   ]
  },
  {
   "cell_type": "code",
   "execution_count": 13,
   "id": "a1d7bcd4-e553-4f95-b342-3760695c9058",
   "metadata": {},
   "outputs": [
    {
     "data": {
      "text/plain": [
       "Cabin\n",
       "Z              687\n",
       "C23 C25 C27      4\n",
       "G6               4\n",
       "B96 B98          4\n",
       "C22 C26          3\n",
       "              ... \n",
       "E34              1\n",
       "C7               1\n",
       "C54              1\n",
       "E36              1\n",
       "C148             1\n",
       "Name: count, Length: 148, dtype: int64"
      ]
     },
     "execution_count": 13,
     "metadata": {},
     "output_type": "execute_result"
    }
   ],
   "source": [
    "df_raw['Cabin'].value_counts()"
   ]
  },
  {
   "cell_type": "markdown",
   "id": "3b8c692c-0684-4c9a-80c2-5c7de19daca6",
   "metadata": {
    "jp-MarkdownHeadingCollapsed": true
   },
   "source": [
    "### Creating Annotations from the Name column"
   ]
  },
  {
   "cell_type": "code",
   "execution_count": 14,
   "id": "eb1dbb23-8a95-4186-ab15-6fad35b56801",
   "metadata": {},
   "outputs": [],
   "source": [
    "def extract_annotations(row):\n",
    "    if 'Mrs' in row:\n",
    "        return 'Mrs'\n",
    "    elif 'Mr' in row:\n",
    "        return 'Mr'\n",
    "    elif 'Miss' in row:\n",
    "        return 'Miss'\n",
    "    elif 'Master' in row:\n",
    "        return 'Master'\n",
    "    else:\n",
    "        return 'other'\n",
    "\n",
    "df_raw['Annots'] = df_raw['Name'].apply(extract_annotations)"
   ]
  },
  {
   "cell_type": "code",
   "execution_count": 15,
   "id": "b73c17e7-0653-44da-b727-07dd9a57d09e",
   "metadata": {},
   "outputs": [
    {
     "data": {
      "text/html": [
       "<div>\n",
       "<style scoped>\n",
       "    .dataframe tbody tr th:only-of-type {\n",
       "        vertical-align: middle;\n",
       "    }\n",
       "\n",
       "    .dataframe tbody tr th {\n",
       "        vertical-align: top;\n",
       "    }\n",
       "\n",
       "    .dataframe thead th {\n",
       "        text-align: right;\n",
       "    }\n",
       "</style>\n",
       "<table border=\"1\" class=\"dataframe\">\n",
       "  <thead>\n",
       "    <tr style=\"text-align: right;\">\n",
       "      <th></th>\n",
       "      <th>Survived</th>\n",
       "      <th>Pclass</th>\n",
       "      <th>Name</th>\n",
       "      <th>Sex</th>\n",
       "      <th>Age</th>\n",
       "      <th>SibSp</th>\n",
       "      <th>Parch</th>\n",
       "      <th>Ticket</th>\n",
       "      <th>Fare</th>\n",
       "      <th>Cabin</th>\n",
       "      <th>Embarked</th>\n",
       "      <th>Annots</th>\n",
       "    </tr>\n",
       "    <tr>\n",
       "      <th>PassengerId</th>\n",
       "      <th></th>\n",
       "      <th></th>\n",
       "      <th></th>\n",
       "      <th></th>\n",
       "      <th></th>\n",
       "      <th></th>\n",
       "      <th></th>\n",
       "      <th></th>\n",
       "      <th></th>\n",
       "      <th></th>\n",
       "      <th></th>\n",
       "      <th></th>\n",
       "    </tr>\n",
       "  </thead>\n",
       "  <tbody>\n",
       "    <tr>\n",
       "      <th>735</th>\n",
       "      <td>0</td>\n",
       "      <td>2</td>\n",
       "      <td>Troupiansky, Mr. Moses Aaron</td>\n",
       "      <td>male</td>\n",
       "      <td>23.0</td>\n",
       "      <td>0</td>\n",
       "      <td>0</td>\n",
       "      <td>233639</td>\n",
       "      <td>13.0000</td>\n",
       "      <td>Z</td>\n",
       "      <td>S</td>\n",
       "      <td>Mr</td>\n",
       "    </tr>\n",
       "    <tr>\n",
       "      <th>770</th>\n",
       "      <td>0</td>\n",
       "      <td>3</td>\n",
       "      <td>Gronnestad, Mr. Daniel Danielsen</td>\n",
       "      <td>male</td>\n",
       "      <td>32.0</td>\n",
       "      <td>0</td>\n",
       "      <td>0</td>\n",
       "      <td>8471</td>\n",
       "      <td>8.3625</td>\n",
       "      <td>Z</td>\n",
       "      <td>S</td>\n",
       "      <td>Mr</td>\n",
       "    </tr>\n",
       "    <tr>\n",
       "      <th>358</th>\n",
       "      <td>0</td>\n",
       "      <td>2</td>\n",
       "      <td>Funk, Miss. Annie Clemmer</td>\n",
       "      <td>female</td>\n",
       "      <td>38.0</td>\n",
       "      <td>0</td>\n",
       "      <td>0</td>\n",
       "      <td>237671</td>\n",
       "      <td>13.0000</td>\n",
       "      <td>Z</td>\n",
       "      <td>S</td>\n",
       "      <td>Miss</td>\n",
       "    </tr>\n",
       "    <tr>\n",
       "      <th>191</th>\n",
       "      <td>1</td>\n",
       "      <td>2</td>\n",
       "      <td>Pinsky, Mrs. (Rosa)</td>\n",
       "      <td>female</td>\n",
       "      <td>32.0</td>\n",
       "      <td>0</td>\n",
       "      <td>0</td>\n",
       "      <td>234604</td>\n",
       "      <td>13.0000</td>\n",
       "      <td>Z</td>\n",
       "      <td>S</td>\n",
       "      <td>Mrs</td>\n",
       "    </tr>\n",
       "    <tr>\n",
       "      <th>13</th>\n",
       "      <td>0</td>\n",
       "      <td>3</td>\n",
       "      <td>Saundercock, Mr. William Henry</td>\n",
       "      <td>male</td>\n",
       "      <td>20.0</td>\n",
       "      <td>0</td>\n",
       "      <td>0</td>\n",
       "      <td>A/5. 2151</td>\n",
       "      <td>8.0500</td>\n",
       "      <td>Z</td>\n",
       "      <td>S</td>\n",
       "      <td>Mr</td>\n",
       "    </tr>\n",
       "  </tbody>\n",
       "</table>\n",
       "</div>"
      ],
      "text/plain": [
       "             Survived  Pclass                              Name     Sex   Age  \\\n",
       "PassengerId                                                                     \n",
       "735                 0       2      Troupiansky, Mr. Moses Aaron    male  23.0   \n",
       "770                 0       3  Gronnestad, Mr. Daniel Danielsen    male  32.0   \n",
       "358                 0       2         Funk, Miss. Annie Clemmer  female  38.0   \n",
       "191                 1       2               Pinsky, Mrs. (Rosa)  female  32.0   \n",
       "13                  0       3    Saundercock, Mr. William Henry    male  20.0   \n",
       "\n",
       "             SibSp  Parch     Ticket     Fare Cabin Embarked Annots  \n",
       "PassengerId                                                          \n",
       "735              0      0     233639  13.0000     Z        S     Mr  \n",
       "770              0      0       8471   8.3625     Z        S     Mr  \n",
       "358              0      0     237671  13.0000     Z        S   Miss  \n",
       "191              0      0     234604  13.0000     Z        S    Mrs  \n",
       "13               0      0  A/5. 2151   8.0500     Z        S     Mr  "
      ]
     },
     "execution_count": 15,
     "metadata": {},
     "output_type": "execute_result"
    }
   ],
   "source": [
    "df_raw.sample(5)"
   ]
  },
  {
   "cell_type": "markdown",
   "id": "b68bf28c-3692-472a-b42e-d9efd0e7e4d3",
   "metadata": {
    "jp-MarkdownHeadingCollapsed": true
   },
   "source": [
    "### Dropping the name Column"
   ]
  },
  {
   "cell_type": "code",
   "execution_count": 16,
   "id": "e6e3ffd0-7733-43b4-86f6-561f6e5f4323",
   "metadata": {},
   "outputs": [],
   "source": [
    "df_raw.drop(['Name'], axis =1, inplace = True)"
   ]
  },
  {
   "cell_type": "markdown",
   "id": "9cd8f853-f268-4a6c-b3aa-3ea667e90898",
   "metadata": {
    "jp-MarkdownHeadingCollapsed": true
   },
   "source": [
    "### Cleaning the Fare Column\n",
    "* Removing Outliers"
   ]
  },
  {
   "cell_type": "code",
   "execution_count": 17,
   "id": "4a25a104-a8de-4b1e-abfb-5ecafdec96f6",
   "metadata": {},
   "outputs": [
    {
     "data": {
      "text/html": [
       "<div>\n",
       "<style scoped>\n",
       "    .dataframe tbody tr th:only-of-type {\n",
       "        vertical-align: middle;\n",
       "    }\n",
       "\n",
       "    .dataframe tbody tr th {\n",
       "        vertical-align: top;\n",
       "    }\n",
       "\n",
       "    .dataframe thead th {\n",
       "        text-align: right;\n",
       "    }\n",
       "</style>\n",
       "<table border=\"1\" class=\"dataframe\">\n",
       "  <thead>\n",
       "    <tr style=\"text-align: right;\">\n",
       "      <th></th>\n",
       "      <th>Survived</th>\n",
       "      <th>Pclass</th>\n",
       "      <th>Age</th>\n",
       "      <th>SibSp</th>\n",
       "      <th>Parch</th>\n",
       "      <th>Fare</th>\n",
       "    </tr>\n",
       "  </thead>\n",
       "  <tbody>\n",
       "    <tr>\n",
       "      <th>count</th>\n",
       "      <td>891.000000</td>\n",
       "      <td>891.000000</td>\n",
       "      <td>714.000000</td>\n",
       "      <td>891.000000</td>\n",
       "      <td>891.000000</td>\n",
       "      <td>891.000000</td>\n",
       "    </tr>\n",
       "    <tr>\n",
       "      <th>mean</th>\n",
       "      <td>0.383838</td>\n",
       "      <td>2.308642</td>\n",
       "      <td>29.699118</td>\n",
       "      <td>0.523008</td>\n",
       "      <td>0.381594</td>\n",
       "      <td>32.204208</td>\n",
       "    </tr>\n",
       "    <tr>\n",
       "      <th>std</th>\n",
       "      <td>0.486592</td>\n",
       "      <td>0.836071</td>\n",
       "      <td>14.526497</td>\n",
       "      <td>1.102743</td>\n",
       "      <td>0.806057</td>\n",
       "      <td>49.693429</td>\n",
       "    </tr>\n",
       "    <tr>\n",
       "      <th>min</th>\n",
       "      <td>0.000000</td>\n",
       "      <td>1.000000</td>\n",
       "      <td>0.420000</td>\n",
       "      <td>0.000000</td>\n",
       "      <td>0.000000</td>\n",
       "      <td>0.000000</td>\n",
       "    </tr>\n",
       "    <tr>\n",
       "      <th>25%</th>\n",
       "      <td>0.000000</td>\n",
       "      <td>2.000000</td>\n",
       "      <td>20.125000</td>\n",
       "      <td>0.000000</td>\n",
       "      <td>0.000000</td>\n",
       "      <td>7.910400</td>\n",
       "    </tr>\n",
       "    <tr>\n",
       "      <th>50%</th>\n",
       "      <td>0.000000</td>\n",
       "      <td>3.000000</td>\n",
       "      <td>28.000000</td>\n",
       "      <td>0.000000</td>\n",
       "      <td>0.000000</td>\n",
       "      <td>14.454200</td>\n",
       "    </tr>\n",
       "    <tr>\n",
       "      <th>75%</th>\n",
       "      <td>1.000000</td>\n",
       "      <td>3.000000</td>\n",
       "      <td>38.000000</td>\n",
       "      <td>1.000000</td>\n",
       "      <td>0.000000</td>\n",
       "      <td>31.000000</td>\n",
       "    </tr>\n",
       "    <tr>\n",
       "      <th>max</th>\n",
       "      <td>1.000000</td>\n",
       "      <td>3.000000</td>\n",
       "      <td>80.000000</td>\n",
       "      <td>8.000000</td>\n",
       "      <td>6.000000</td>\n",
       "      <td>512.329200</td>\n",
       "    </tr>\n",
       "  </tbody>\n",
       "</table>\n",
       "</div>"
      ],
      "text/plain": [
       "         Survived      Pclass         Age       SibSp       Parch        Fare\n",
       "count  891.000000  891.000000  714.000000  891.000000  891.000000  891.000000\n",
       "mean     0.383838    2.308642   29.699118    0.523008    0.381594   32.204208\n",
       "std      0.486592    0.836071   14.526497    1.102743    0.806057   49.693429\n",
       "min      0.000000    1.000000    0.420000    0.000000    0.000000    0.000000\n",
       "25%      0.000000    2.000000   20.125000    0.000000    0.000000    7.910400\n",
       "50%      0.000000    3.000000   28.000000    0.000000    0.000000   14.454200\n",
       "75%      1.000000    3.000000   38.000000    1.000000    0.000000   31.000000\n",
       "max      1.000000    3.000000   80.000000    8.000000    6.000000  512.329200"
      ]
     },
     "execution_count": 17,
     "metadata": {},
     "output_type": "execute_result"
    }
   ],
   "source": [
    "df_raw.describe()"
   ]
  },
  {
   "cell_type": "code",
   "execution_count": 18,
   "id": "e5bf5a2e-5b0b-4f54-a392-3f9bf59e30b9",
   "metadata": {},
   "outputs": [
    {
     "data": {
      "text/plain": [
       "<Axes: xlabel='Fare'>"
      ]
     },
     "execution_count": 18,
     "metadata": {},
     "output_type": "execute_result"
    },
    {
     "data": {
      "image/png": "[encoded data removed]",
      "text/plain": [
       "<Figure size 640x480 with 1 Axes>"
      ]
     },
     "metadata": {},
     "output_type": "display_data"
    }
   ],
   "source": [
    "sns.boxplot(data = df_raw, x = 'Fare')"
   ]
  },
  {
   "cell_type": "code",
   "execution_count": 19,
   "id": "dbff1644-9f4d-4978-9e09-ea9ff1f6c447",
   "metadata": {},
   "outputs": [],
   "source": [
    "df_raw = df_raw[df_raw['Fare'] < 500]"
   ]
  },
  {
   "cell_type": "code",
   "execution_count": 20,
   "id": "274b8cb5-5260-4f49-8649-7afc690c7006",
   "metadata": {},
   "outputs": [
    {
     "data": {
      "text/plain": [
       "<Axes: xlabel='Fare'>"
      ]
     },
     "execution_count": 20,
     "metadata": {},
     "output_type": "execute_result"
    },
    {
     "data": {
      "image/png": "[encoded data removed]",
      "text/plain": [
       "<Figure size 640x480 with 1 Axes>"
      ]
     },
     "metadata": {},
     "output_type": "display_data"
    }
   ],
   "source": [
    "sns.boxplot(data = df_raw, x = 'Fare')"
   ]
  },
  {
   "cell_type": "markdown",
   "id": "fde6a4b9-4688-47b4-9754-6845264f6460",
   "metadata": {
    "jp-MarkdownHeadingCollapsed": true
   },
   "source": [
    "### Creating the FareCategory From the Fare Column --Modified"
   ]
  },
  {
   "cell_type": "code",
   "execution_count": 21,
   "id": "4a68bd5f-f8e4-4a3e-a05e-6681d12f82e9",
   "metadata": {},
   "outputs": [],
   "source": [
    "df_raw['FareCategory'] = pd.cut(df_raw.loc[:, 'Fare'], bins = [0, 20, 60, np.inf], labels = ['Basic', 'Medium', 'High'])"
   ]
  },
  {
   "cell_type": "code",
   "execution_count": 22,
   "id": "b5711ef3-cdcf-4837-9fe9-200005ce27e8",
   "metadata": {},
   "outputs": [
    {
     "data": {
      "text/plain": [
       "<Axes: xlabel='FareCategory'>"
      ]
     },
     "execution_count": 22,
     "metadata": {},
     "output_type": "execute_result"
    },
    {
     "data": {
      "image/png": "[encoded data removed]",
      "text/plain": [
       "<Figure size 640x480 with 1 Axes>"
      ]
     },
     "metadata": {},
     "output_type": "display_data"
    }
   ],
   "source": [
    "df_raw['FareCategory'].value_counts().plot(kind = 'bar')"
   ]
  },
  {
   "cell_type": "code",
   "execution_count": 23,
   "id": "c2c8b4d6-855b-4891-ae08-e9e5e50eefda",
   "metadata": {},
   "outputs": [
    {
     "name": "stdout",
     "output_type": "stream",
     "text": [
      "<class 'pandas.core.frame.DataFrame'>\n",
      "Index: 888 entries, 1 to 891\n",
      "Data columns (total 12 columns):\n",
      " #   Column        Non-Null Count  Dtype   \n",
      "---  ------        --------------  -----   \n",
      " 0   Survived      888 non-null    int64   \n",
      " 1   Pclass        888 non-null    int64   \n",
      " 2   Sex           888 non-null    object  \n",
      " 3   Age           711 non-null    float64 \n",
      " 4   SibSp         888 non-null    int64   \n",
      " 5   Parch         888 non-null    int64   \n",
      " 6   Ticket        888 non-null    object  \n",
      " 7   Fare          888 non-null    float64 \n",
      " 8   Cabin         888 non-null    object  \n",
      " 9   Embarked      886 non-null    object  \n",
      " 10  Annots        888 non-null    object  \n",
      " 11  FareCategory  873 non-null    category\n",
      "dtypes: category(1), float64(2), int64(4), object(5)\n",
      "memory usage: 84.2+ KB\n"
     ]
    }
   ],
   "source": [
    "df_raw.info()"
   ]
  },
  {
   "cell_type": "code",
   "execution_count": 24,
   "id": "e937cc93-ec1b-4c10-ac54-98c77d5dcb57",
   "metadata": {},
   "outputs": [
    {
     "data": {
      "text/html": [
       "<div>\n",
       "<style scoped>\n",
       "    .dataframe tbody tr th:only-of-type {\n",
       "        vertical-align: middle;\n",
       "    }\n",
       "\n",
       "    .dataframe tbody tr th {\n",
       "        vertical-align: top;\n",
       "    }\n",
       "\n",
       "    .dataframe thead th {\n",
       "        text-align: right;\n",
       "    }\n",
       "</style>\n",
       "<table border=\"1\" class=\"dataframe\">\n",
       "  <thead>\n",
       "    <tr style=\"text-align: right;\">\n",
       "      <th></th>\n",
       "      <th>Survived</th>\n",
       "      <th>Pclass</th>\n",
       "      <th>Sex</th>\n",
       "      <th>Age</th>\n",
       "      <th>SibSp</th>\n",
       "      <th>Parch</th>\n",
       "      <th>Ticket</th>\n",
       "      <th>Fare</th>\n",
       "      <th>Cabin</th>\n",
       "      <th>Embarked</th>\n",
       "      <th>Annots</th>\n",
       "      <th>FareCategory</th>\n",
       "    </tr>\n",
       "    <tr>\n",
       "      <th>PassengerId</th>\n",
       "      <th></th>\n",
       "      <th></th>\n",
       "      <th></th>\n",
       "      <th></th>\n",
       "      <th></th>\n",
       "      <th></th>\n",
       "      <th></th>\n",
       "      <th></th>\n",
       "      <th></th>\n",
       "      <th></th>\n",
       "      <th></th>\n",
       "      <th></th>\n",
       "    </tr>\n",
       "  </thead>\n",
       "  <tbody>\n",
       "    <tr>\n",
       "      <th>180</th>\n",
       "      <td>0</td>\n",
       "      <td>3</td>\n",
       "      <td>male</td>\n",
       "      <td>36.0</td>\n",
       "      <td>0</td>\n",
       "      <td>0</td>\n",
       "      <td>LINE</td>\n",
       "      <td>0.0</td>\n",
       "      <td>Z</td>\n",
       "      <td>S</td>\n",
       "      <td>Mr</td>\n",
       "      <td>NaN</td>\n",
       "    </tr>\n",
       "    <tr>\n",
       "      <th>264</th>\n",
       "      <td>0</td>\n",
       "      <td>1</td>\n",
       "      <td>male</td>\n",
       "      <td>40.0</td>\n",
       "      <td>0</td>\n",
       "      <td>0</td>\n",
       "      <td>112059</td>\n",
       "      <td>0.0</td>\n",
       "      <td>B94</td>\n",
       "      <td>S</td>\n",
       "      <td>Mr</td>\n",
       "      <td>NaN</td>\n",
       "    </tr>\n",
       "    <tr>\n",
       "      <th>272</th>\n",
       "      <td>1</td>\n",
       "      <td>3</td>\n",
       "      <td>male</td>\n",
       "      <td>25.0</td>\n",
       "      <td>0</td>\n",
       "      <td>0</td>\n",
       "      <td>LINE</td>\n",
       "      <td>0.0</td>\n",
       "      <td>Z</td>\n",
       "      <td>S</td>\n",
       "      <td>Mr</td>\n",
       "      <td>NaN</td>\n",
       "    </tr>\n",
       "    <tr>\n",
       "      <th>278</th>\n",
       "      <td>0</td>\n",
       "      <td>2</td>\n",
       "      <td>male</td>\n",
       "      <td>NaN</td>\n",
       "      <td>0</td>\n",
       "      <td>0</td>\n",
       "      <td>239853</td>\n",
       "      <td>0.0</td>\n",
       "      <td>Z</td>\n",
       "      <td>S</td>\n",
       "      <td>Mr</td>\n",
       "      <td>NaN</td>\n",
       "    </tr>\n",
       "    <tr>\n",
       "      <th>303</th>\n",
       "      <td>0</td>\n",
       "      <td>3</td>\n",
       "      <td>male</td>\n",
       "      <td>19.0</td>\n",
       "      <td>0</td>\n",
       "      <td>0</td>\n",
       "      <td>LINE</td>\n",
       "      <td>0.0</td>\n",
       "      <td>Z</td>\n",
       "      <td>S</td>\n",
       "      <td>Mr</td>\n",
       "      <td>NaN</td>\n",
       "    </tr>\n",
       "    <tr>\n",
       "      <th>414</th>\n",
       "      <td>0</td>\n",
       "      <td>2</td>\n",
       "      <td>male</td>\n",
       "      <td>NaN</td>\n",
       "      <td>0</td>\n",
       "      <td>0</td>\n",
       "      <td>239853</td>\n",
       "      <td>0.0</td>\n",
       "      <td>Z</td>\n",
       "      <td>S</td>\n",
       "      <td>Mr</td>\n",
       "      <td>NaN</td>\n",
       "    </tr>\n",
       "    <tr>\n",
       "      <th>467</th>\n",
       "      <td>0</td>\n",
       "      <td>2</td>\n",
       "      <td>male</td>\n",
       "      <td>NaN</td>\n",
       "      <td>0</td>\n",
       "      <td>0</td>\n",
       "      <td>239853</td>\n",
       "      <td>0.0</td>\n",
       "      <td>Z</td>\n",
       "      <td>S</td>\n",
       "      <td>Mr</td>\n",
       "      <td>NaN</td>\n",
       "    </tr>\n",
       "    <tr>\n",
       "      <th>482</th>\n",
       "      <td>0</td>\n",
       "      <td>2</td>\n",
       "      <td>male</td>\n",
       "      <td>NaN</td>\n",
       "      <td>0</td>\n",
       "      <td>0</td>\n",
       "      <td>239854</td>\n",
       "      <td>0.0</td>\n",
       "      <td>Z</td>\n",
       "      <td>S</td>\n",
       "      <td>Mr</td>\n",
       "      <td>NaN</td>\n",
       "    </tr>\n",
       "    <tr>\n",
       "      <th>598</th>\n",
       "      <td>0</td>\n",
       "      <td>3</td>\n",
       "      <td>male</td>\n",
       "      <td>49.0</td>\n",
       "      <td>0</td>\n",
       "      <td>0</td>\n",
       "      <td>LINE</td>\n",
       "      <td>0.0</td>\n",
       "      <td>Z</td>\n",
       "      <td>S</td>\n",
       "      <td>Mr</td>\n",
       "      <td>NaN</td>\n",
       "    </tr>\n",
       "    <tr>\n",
       "      <th>634</th>\n",
       "      <td>0</td>\n",
       "      <td>1</td>\n",
       "      <td>male</td>\n",
       "      <td>NaN</td>\n",
       "      <td>0</td>\n",
       "      <td>0</td>\n",
       "      <td>112052</td>\n",
       "      <td>0.0</td>\n",
       "      <td>Z</td>\n",
       "      <td>S</td>\n",
       "      <td>Mr</td>\n",
       "      <td>NaN</td>\n",
       "    </tr>\n",
       "    <tr>\n",
       "      <th>675</th>\n",
       "      <td>0</td>\n",
       "      <td>2</td>\n",
       "      <td>male</td>\n",
       "      <td>NaN</td>\n",
       "      <td>0</td>\n",
       "      <td>0</td>\n",
       "      <td>239856</td>\n",
       "      <td>0.0</td>\n",
       "      <td>Z</td>\n",
       "      <td>S</td>\n",
       "      <td>Mr</td>\n",
       "      <td>NaN</td>\n",
       "    </tr>\n",
       "    <tr>\n",
       "      <th>733</th>\n",
       "      <td>0</td>\n",
       "      <td>2</td>\n",
       "      <td>male</td>\n",
       "      <td>NaN</td>\n",
       "      <td>0</td>\n",
       "      <td>0</td>\n",
       "      <td>239855</td>\n",
       "      <td>0.0</td>\n",
       "      <td>Z</td>\n",
       "      <td>S</td>\n",
       "      <td>Mr</td>\n",
       "      <td>NaN</td>\n",
       "    </tr>\n",
       "    <tr>\n",
       "      <th>807</th>\n",
       "      <td>0</td>\n",
       "      <td>1</td>\n",
       "      <td>male</td>\n",
       "      <td>39.0</td>\n",
       "      <td>0</td>\n",
       "      <td>0</td>\n",
       "      <td>112050</td>\n",
       "      <td>0.0</td>\n",
       "      <td>A36</td>\n",
       "      <td>S</td>\n",
       "      <td>Mr</td>\n",
       "      <td>NaN</td>\n",
       "    </tr>\n",
       "    <tr>\n",
       "      <th>816</th>\n",
       "      <td>0</td>\n",
       "      <td>1</td>\n",
       "      <td>male</td>\n",
       "      <td>NaN</td>\n",
       "      <td>0</td>\n",
       "      <td>0</td>\n",
       "      <td>112058</td>\n",
       "      <td>0.0</td>\n",
       "      <td>B102</td>\n",
       "      <td>S</td>\n",
       "      <td>Mr</td>\n",
       "      <td>NaN</td>\n",
       "    </tr>\n",
       "    <tr>\n",
       "      <th>823</th>\n",
       "      <td>0</td>\n",
       "      <td>1</td>\n",
       "      <td>male</td>\n",
       "      <td>38.0</td>\n",
       "      <td>0</td>\n",
       "      <td>0</td>\n",
       "      <td>19972</td>\n",
       "      <td>0.0</td>\n",
       "      <td>Z</td>\n",
       "      <td>S</td>\n",
       "      <td>other</td>\n",
       "      <td>NaN</td>\n",
       "    </tr>\n",
       "  </tbody>\n",
       "</table>\n",
       "</div>"
      ],
      "text/plain": [
       "             Survived  Pclass   Sex   Age  SibSp  Parch  Ticket  Fare Cabin  \\\n",
       "PassengerId                                                                   \n",
       "180                 0       3  male  36.0      0      0    LINE   0.0     Z   \n",
       "264                 0       1  male  40.0      0      0  112059   0.0   B94   \n",
       "272                 1       3  male  25.0      0      0    LINE   0.0     Z   \n",
       "278                 0       2  male   NaN      0      0  239853   0.0     Z   \n",
       "303                 0       3  male  19.0      0      0    LINE   0.0     Z   \n",
       "414                 0       2  male   NaN      0      0  239853   0.0     Z   \n",
       "467                 0       2  male   NaN      0      0  239853   0.0     Z   \n",
       "482                 0       2  male   NaN      0      0  239854   0.0     Z   \n",
       "598                 0       3  male  49.0      0      0    LINE   0.0     Z   \n",
       "634                 0       1  male   NaN      0      0  112052   0.0     Z   \n",
       "675                 0       2  male   NaN      0      0  239856   0.0     Z   \n",
       "733                 0       2  male   NaN      0      0  239855   0.0     Z   \n",
       "807                 0       1  male  39.0      0      0  112050   0.0   A36   \n",
       "816                 0       1  male   NaN      0      0  112058   0.0  B102   \n",
       "823                 0       1  male  38.0      0      0   19972   0.0     Z   \n",
       "\n",
       "            Embarked Annots FareCategory  \n",
       "PassengerId                               \n",
       "180                S     Mr          NaN  \n",
       "264                S     Mr          NaN  \n",
       "272                S     Mr          NaN  \n",
       "278                S     Mr          NaN  \n",
       "303                S     Mr          NaN  \n",
       "414                S     Mr          NaN  \n",
       "467                S     Mr          NaN  \n",
       "482                S     Mr          NaN  \n",
       "598                S     Mr          NaN  \n",
       "634                S     Mr          NaN  \n",
       "675                S     Mr          NaN  \n",
       "733                S     Mr          NaN  \n",
       "807                S     Mr          NaN  \n",
       "816                S     Mr          NaN  \n",
       "823                S  other          NaN  "
      ]
     },
     "execution_count": 24,
     "metadata": {},
     "output_type": "execute_result"
    }
   ],
   "source": [
    "df_raw[df_raw['FareCategory'].isna()]"
   ]
  },
  {
   "cell_type": "code",
   "execution_count": 25,
   "id": "7750db44-95c4-46bb-bff3-dab3cb33b7c0",
   "metadata": {},
   "outputs": [],
   "source": [
    "df_raw['FareCategory'] = df_raw.loc[:, 'FareCategory'].astype('category')\n",
    "df_raw['FareCategory'] = df_raw.loc[:, 'FareCategory'].cat.add_categories('Free')\n",
    "df_raw['FareCategory'] = df_raw.loc[:, 'FareCategory'].fillna('Free')"
   ]
  },
  {
   "cell_type": "code",
   "execution_count": 26,
   "id": "a64ddb68-ecc0-44a7-b807-22f99a36fcd6",
   "metadata": {},
   "outputs": [
    {
     "name": "stdout",
     "output_type": "stream",
     "text": [
      "<class 'pandas.core.frame.DataFrame'>\n",
      "Index: 888 entries, 1 to 891\n",
      "Data columns (total 12 columns):\n",
      " #   Column        Non-Null Count  Dtype   \n",
      "---  ------        --------------  -----   \n",
      " 0   Survived      888 non-null    int64   \n",
      " 1   Pclass        888 non-null    int64   \n",
      " 2   Sex           888 non-null    object  \n",
      " 3   Age           711 non-null    float64 \n",
      " 4   SibSp         888 non-null    int64   \n",
      " 5   Parch         888 non-null    int64   \n",
      " 6   Ticket        888 non-null    object  \n",
      " 7   Fare          888 non-null    float64 \n",
      " 8   Cabin         888 non-null    object  \n",
      " 9   Embarked      886 non-null    object  \n",
      " 10  Annots        888 non-null    object  \n",
      " 11  FareCategory  888 non-null    category\n",
      "dtypes: category(1), float64(2), int64(4), object(5)\n",
      "memory usage: 84.3+ KB\n"
     ]
    }
   ],
   "source": [
    "df_raw.info()"
   ]
  },
  {
   "cell_type": "markdown",
   "id": "a8aad576-6263-4cdd-83a0-2a514452d3e6",
   "metadata": {
    "jp-MarkdownHeadingCollapsed": true
   },
   "source": [
    "### Dropping the Fare Column --Modified"
   ]
  },
  {
   "cell_type": "code",
   "execution_count": 27,
   "id": "ebd94aeb-257b-47bc-9369-2198c3592549",
   "metadata": {},
   "outputs": [],
   "source": [
    "# df_raw.drop('Fare', axis = 1, inplace = True)"
   ]
  },
  {
   "cell_type": "markdown",
   "id": "a0db5982-4bab-4171-b940-4fbef6df50c7",
   "metadata": {
    "jp-MarkdownHeadingCollapsed": true
   },
   "source": [
    "### Dropping the null rows in the Embarked column"
   ]
  },
  {
   "cell_type": "code",
   "execution_count": 28,
   "id": "cd3de675-5dbe-4a2e-9f0e-db9681c6fa00",
   "metadata": {},
   "outputs": [],
   "source": [
    "df_raw.dropna(subset = ['Embarked'], inplace = True)"
   ]
  },
  {
   "cell_type": "code",
   "execution_count": 29,
   "id": "cb4fb0b1-4038-4faa-94ba-f8de4e21a83f",
   "metadata": {},
   "outputs": [
    {
     "name": "stdout",
     "output_type": "stream",
     "text": [
      "<class 'pandas.core.frame.DataFrame'>\n",
      "Index: 886 entries, 1 to 891\n",
      "Data columns (total 12 columns):\n",
      " #   Column        Non-Null Count  Dtype   \n",
      "---  ------        --------------  -----   \n",
      " 0   Survived      886 non-null    int64   \n",
      " 1   Pclass        886 non-null    int64   \n",
      " 2   Sex           886 non-null    object  \n",
      " 3   Age           709 non-null    float64 \n",
      " 4   SibSp         886 non-null    int64   \n",
      " 5   Parch         886 non-null    int64   \n",
      " 6   Ticket        886 non-null    object  \n",
      " 7   Fare          886 non-null    float64 \n",
      " 8   Cabin         886 non-null    object  \n",
      " 9   Embarked      886 non-null    object  \n",
      " 10  Annots        886 non-null    object  \n",
      " 11  FareCategory  886 non-null    category\n",
      "dtypes: category(1), float64(2), int64(4), object(5)\n",
      "memory usage: 84.1+ KB\n"
     ]
    }
   ],
   "source": [
    "df_raw.info()"
   ]
  },
  {
   "cell_type": "markdown",
   "id": "3d167355-db40-4020-b00b-3d3f3651e6cd",
   "metadata": {
    "jp-MarkdownHeadingCollapsed": true
   },
   "source": [
    "### Cleaning the Age column"
   ]
  },
  {
   "cell_type": "code",
   "execution_count": 30,
   "id": "76a313a7-7a36-4a47-abb4-27fe917b99eb",
   "metadata": {},
   "outputs": [
    {
     "data": {
      "text/html": [
       "<div>\n",
       "<style scoped>\n",
       "    .dataframe tbody tr th:only-of-type {\n",
       "        vertical-align: middle;\n",
       "    }\n",
       "\n",
       "    .dataframe tbody tr th {\n",
       "        vertical-align: top;\n",
       "    }\n",
       "\n",
       "    .dataframe thead th {\n",
       "        text-align: right;\n",
       "    }\n",
       "</style>\n",
       "<table border=\"1\" class=\"dataframe\">\n",
       "  <thead>\n",
       "    <tr style=\"text-align: right;\">\n",
       "      <th></th>\n",
       "      <th>Survived</th>\n",
       "      <th>Pclass</th>\n",
       "      <th>Sex</th>\n",
       "      <th>Age</th>\n",
       "      <th>SibSp</th>\n",
       "      <th>Parch</th>\n",
       "      <th>Ticket</th>\n",
       "      <th>Fare</th>\n",
       "      <th>Cabin</th>\n",
       "      <th>Embarked</th>\n",
       "      <th>Annots</th>\n",
       "      <th>FareCategory</th>\n",
       "    </tr>\n",
       "    <tr>\n",
       "      <th>PassengerId</th>\n",
       "      <th></th>\n",
       "      <th></th>\n",
       "      <th></th>\n",
       "      <th></th>\n",
       "      <th></th>\n",
       "      <th></th>\n",
       "      <th></th>\n",
       "      <th></th>\n",
       "      <th></th>\n",
       "      <th></th>\n",
       "      <th></th>\n",
       "      <th></th>\n",
       "    </tr>\n",
       "  </thead>\n",
       "  <tbody>\n",
       "    <tr>\n",
       "      <th>747</th>\n",
       "      <td>0</td>\n",
       "      <td>3</td>\n",
       "      <td>male</td>\n",
       "      <td>16.0</td>\n",
       "      <td>1</td>\n",
       "      <td>1</td>\n",
       "      <td>C.A. 2673</td>\n",
       "      <td>20.250</td>\n",
       "      <td>Z</td>\n",
       "      <td>S</td>\n",
       "      <td>Mr</td>\n",
       "      <td>Medium</td>\n",
       "    </tr>\n",
       "    <tr>\n",
       "      <th>514</th>\n",
       "      <td>1</td>\n",
       "      <td>1</td>\n",
       "      <td>female</td>\n",
       "      <td>54.0</td>\n",
       "      <td>1</td>\n",
       "      <td>0</td>\n",
       "      <td>PC 17603</td>\n",
       "      <td>59.400</td>\n",
       "      <td>Z</td>\n",
       "      <td>C</td>\n",
       "      <td>Mrs</td>\n",
       "      <td>Medium</td>\n",
       "    </tr>\n",
       "    <tr>\n",
       "      <th>231</th>\n",
       "      <td>1</td>\n",
       "      <td>1</td>\n",
       "      <td>female</td>\n",
       "      <td>35.0</td>\n",
       "      <td>1</td>\n",
       "      <td>0</td>\n",
       "      <td>36973</td>\n",
       "      <td>83.475</td>\n",
       "      <td>C83</td>\n",
       "      <td>S</td>\n",
       "      <td>Mrs</td>\n",
       "      <td>High</td>\n",
       "    </tr>\n",
       "    <tr>\n",
       "      <th>150</th>\n",
       "      <td>0</td>\n",
       "      <td>2</td>\n",
       "      <td>male</td>\n",
       "      <td>42.0</td>\n",
       "      <td>0</td>\n",
       "      <td>0</td>\n",
       "      <td>244310</td>\n",
       "      <td>13.000</td>\n",
       "      <td>Z</td>\n",
       "      <td>S</td>\n",
       "      <td>other</td>\n",
       "      <td>Basic</td>\n",
       "    </tr>\n",
       "    <tr>\n",
       "      <th>670</th>\n",
       "      <td>1</td>\n",
       "      <td>1</td>\n",
       "      <td>female</td>\n",
       "      <td>NaN</td>\n",
       "      <td>1</td>\n",
       "      <td>0</td>\n",
       "      <td>19996</td>\n",
       "      <td>52.000</td>\n",
       "      <td>C126</td>\n",
       "      <td>S</td>\n",
       "      <td>Mrs</td>\n",
       "      <td>Medium</td>\n",
       "    </tr>\n",
       "  </tbody>\n",
       "</table>\n",
       "</div>"
      ],
      "text/plain": [
       "             Survived  Pclass     Sex   Age  SibSp  Parch     Ticket    Fare  \\\n",
       "PassengerId                                                                    \n",
       "747                 0       3    male  16.0      1      1  C.A. 2673  20.250   \n",
       "514                 1       1  female  54.0      1      0   PC 17603  59.400   \n",
       "231                 1       1  female  35.0      1      0      36973  83.475   \n",
       "150                 0       2    male  42.0      0      0     244310  13.000   \n",
       "670                 1       1  female   NaN      1      0      19996  52.000   \n",
       "\n",
       "            Cabin Embarked Annots FareCategory  \n",
       "PassengerId                                     \n",
       "747             Z        S     Mr       Medium  \n",
       "514             Z        C    Mrs       Medium  \n",
       "231           C83        S    Mrs         High  \n",
       "150             Z        S  other        Basic  \n",
       "670          C126        S    Mrs       Medium  "
      ]
     },
     "execution_count": 30,
     "metadata": {},
     "output_type": "execute_result"
    }
   ],
   "source": [
    "df_raw.sample(5)"
   ]
  },
  {
   "cell_type": "code",
   "execution_count": 31,
   "id": "aaa7d5f8-ac5a-4815-af85-7bef9456a7e5",
   "metadata": {},
   "outputs": [
    {
     "data": {
      "text/plain": [
       "count    709.000000\n",
       "mean      29.618011\n",
       "std       14.518828\n",
       "min        0.420000\n",
       "25%       20.000000\n",
       "50%       28.000000\n",
       "75%       38.000000\n",
       "max       80.000000\n",
       "Name: Age, dtype: float64"
      ]
     },
     "execution_count": 31,
     "metadata": {},
     "output_type": "execute_result"
    }
   ],
   "source": [
    "df_raw['Age'].describe()"
   ]
  },
  {
   "cell_type": "code",
   "execution_count": 32,
   "id": "3a655488-f8e3-485e-a8a3-53afd1d3e0b4",
   "metadata": {},
   "outputs": [
    {
     "data": {
      "text/plain": [
       "<Axes: >"
      ]
     },
     "execution_count": 32,
     "metadata": {},
     "output_type": "execute_result"
    },
    {
     "data": {
      "image/png": "[encoded data removed]",
      "text/plain": [
       "<Figure size 640x480 with 1 Axes>"
      ]
     },
     "metadata": {},
     "output_type": "display_data"
    }
   ],
   "source": [
    "df_raw['Age'].plot(kind = 'box')"
   ]
  },
  {
   "cell_type": "code",
   "execution_count": 33,
   "id": "3d00e44d-9698-4912-8074-ab9a1d257f91",
   "metadata": {},
   "outputs": [],
   "source": [
    "average_age = df_raw.groupby('Annots')['Age'].mean()\n",
    "\n",
    "# Iterate over rows with null age and map the average age based on the annotation\n",
    "for index, row in df_raw[df_raw['Age'].isnull()].iterrows():\n",
    "    annotation = row['Annots']\n",
    "    if annotation in average_age:\n",
    "        df_raw.loc[index, 'Age'] = average_age[annotation]"
   ]
  },
  {
   "cell_type": "code",
   "execution_count": 34,
   "id": "dccce94c-7f83-4f9b-92dd-1cecf3c3b320",
   "metadata": {},
   "outputs": [
    {
     "data": {
      "text/plain": [
       "Annots\n",
       "Master     4.574167\n",
       "Miss      21.570423\n",
       "Mr        32.394207\n",
       "Mrs       35.405405\n",
       "other     42.652174\n",
       "Name: Age, dtype: float64"
      ]
     },
     "execution_count": 34,
     "metadata": {},
     "output_type": "execute_result"
    }
   ],
   "source": [
    "average_age"
   ]
  },
  {
   "cell_type": "code",
   "execution_count": 35,
   "id": "737cc93b-73d8-4854-9d8d-6d9ab43acf4f",
   "metadata": {},
   "outputs": [
    {
     "data": {
      "text/html": [
       "<div>\n",
       "<style scoped>\n",
       "    .dataframe tbody tr th:only-of-type {\n",
       "        vertical-align: middle;\n",
       "    }\n",
       "\n",
       "    .dataframe tbody tr th {\n",
       "        vertical-align: top;\n",
       "    }\n",
       "\n",
       "    .dataframe thead th {\n",
       "        text-align: right;\n",
       "    }\n",
       "</style>\n",
       "<table border=\"1\" class=\"dataframe\">\n",
       "  <thead>\n",
       "    <tr style=\"text-align: right;\">\n",
       "      <th></th>\n",
       "      <th>Survived</th>\n",
       "      <th>Pclass</th>\n",
       "      <th>Sex</th>\n",
       "      <th>Age</th>\n",
       "      <th>SibSp</th>\n",
       "      <th>Parch</th>\n",
       "      <th>Ticket</th>\n",
       "      <th>Fare</th>\n",
       "      <th>Cabin</th>\n",
       "      <th>Embarked</th>\n",
       "      <th>Annots</th>\n",
       "      <th>FareCategory</th>\n",
       "    </tr>\n",
       "    <tr>\n",
       "      <th>PassengerId</th>\n",
       "      <th></th>\n",
       "      <th></th>\n",
       "      <th></th>\n",
       "      <th></th>\n",
       "      <th></th>\n",
       "      <th></th>\n",
       "      <th></th>\n",
       "      <th></th>\n",
       "      <th></th>\n",
       "      <th></th>\n",
       "      <th></th>\n",
       "      <th></th>\n",
       "    </tr>\n",
       "  </thead>\n",
       "  <tbody>\n",
       "    <tr>\n",
       "      <th>287</th>\n",
       "      <td>1</td>\n",
       "      <td>3</td>\n",
       "      <td>male</td>\n",
       "      <td>30.000000</td>\n",
       "      <td>0</td>\n",
       "      <td>0</td>\n",
       "      <td>345774</td>\n",
       "      <td>9.5000</td>\n",
       "      <td>Z</td>\n",
       "      <td>S</td>\n",
       "      <td>Mr</td>\n",
       "      <td>Basic</td>\n",
       "    </tr>\n",
       "    <tr>\n",
       "      <th>726</th>\n",
       "      <td>0</td>\n",
       "      <td>3</td>\n",
       "      <td>male</td>\n",
       "      <td>20.000000</td>\n",
       "      <td>0</td>\n",
       "      <td>0</td>\n",
       "      <td>315094</td>\n",
       "      <td>8.6625</td>\n",
       "      <td>Z</td>\n",
       "      <td>S</td>\n",
       "      <td>Mr</td>\n",
       "      <td>Basic</td>\n",
       "    </tr>\n",
       "    <tr>\n",
       "      <th>859</th>\n",
       "      <td>1</td>\n",
       "      <td>3</td>\n",
       "      <td>female</td>\n",
       "      <td>24.000000</td>\n",
       "      <td>0</td>\n",
       "      <td>3</td>\n",
       "      <td>2666</td>\n",
       "      <td>19.2583</td>\n",
       "      <td>Z</td>\n",
       "      <td>C</td>\n",
       "      <td>Mrs</td>\n",
       "      <td>Basic</td>\n",
       "    </tr>\n",
       "    <tr>\n",
       "      <th>447</th>\n",
       "      <td>1</td>\n",
       "      <td>2</td>\n",
       "      <td>female</td>\n",
       "      <td>13.000000</td>\n",
       "      <td>0</td>\n",
       "      <td>1</td>\n",
       "      <td>250644</td>\n",
       "      <td>19.5000</td>\n",
       "      <td>Z</td>\n",
       "      <td>S</td>\n",
       "      <td>Miss</td>\n",
       "      <td>Basic</td>\n",
       "    </tr>\n",
       "    <tr>\n",
       "      <th>240</th>\n",
       "      <td>0</td>\n",
       "      <td>2</td>\n",
       "      <td>male</td>\n",
       "      <td>33.000000</td>\n",
       "      <td>0</td>\n",
       "      <td>0</td>\n",
       "      <td>SCO/W 1585</td>\n",
       "      <td>12.2750</td>\n",
       "      <td>Z</td>\n",
       "      <td>S</td>\n",
       "      <td>Mr</td>\n",
       "      <td>Basic</td>\n",
       "    </tr>\n",
       "    <tr>\n",
       "      <th>341</th>\n",
       "      <td>1</td>\n",
       "      <td>2</td>\n",
       "      <td>male</td>\n",
       "      <td>2.000000</td>\n",
       "      <td>1</td>\n",
       "      <td>1</td>\n",
       "      <td>230080</td>\n",
       "      <td>26.0000</td>\n",
       "      <td>F2</td>\n",
       "      <td>S</td>\n",
       "      <td>Master</td>\n",
       "      <td>Medium</td>\n",
       "    </tr>\n",
       "    <tr>\n",
       "      <th>360</th>\n",
       "      <td>1</td>\n",
       "      <td>3</td>\n",
       "      <td>female</td>\n",
       "      <td>21.570423</td>\n",
       "      <td>0</td>\n",
       "      <td>0</td>\n",
       "      <td>330980</td>\n",
       "      <td>7.8792</td>\n",
       "      <td>Z</td>\n",
       "      <td>Q</td>\n",
       "      <td>Miss</td>\n",
       "      <td>Basic</td>\n",
       "    </tr>\n",
       "    <tr>\n",
       "      <th>269</th>\n",
       "      <td>1</td>\n",
       "      <td>1</td>\n",
       "      <td>female</td>\n",
       "      <td>58.000000</td>\n",
       "      <td>0</td>\n",
       "      <td>1</td>\n",
       "      <td>PC 17582</td>\n",
       "      <td>153.4625</td>\n",
       "      <td>C125</td>\n",
       "      <td>S</td>\n",
       "      <td>Mrs</td>\n",
       "      <td>High</td>\n",
       "    </tr>\n",
       "    <tr>\n",
       "      <th>804</th>\n",
       "      <td>1</td>\n",
       "      <td>3</td>\n",
       "      <td>male</td>\n",
       "      <td>0.420000</td>\n",
       "      <td>0</td>\n",
       "      <td>1</td>\n",
       "      <td>2625</td>\n",
       "      <td>8.5167</td>\n",
       "      <td>Z</td>\n",
       "      <td>C</td>\n",
       "      <td>Master</td>\n",
       "      <td>Basic</td>\n",
       "    </tr>\n",
       "    <tr>\n",
       "      <th>456</th>\n",
       "      <td>1</td>\n",
       "      <td>3</td>\n",
       "      <td>male</td>\n",
       "      <td>29.000000</td>\n",
       "      <td>0</td>\n",
       "      <td>0</td>\n",
       "      <td>349240</td>\n",
       "      <td>7.8958</td>\n",
       "      <td>Z</td>\n",
       "      <td>C</td>\n",
       "      <td>Mr</td>\n",
       "      <td>Basic</td>\n",
       "    </tr>\n",
       "  </tbody>\n",
       "</table>\n",
       "</div>"
      ],
      "text/plain": [
       "             Survived  Pclass     Sex        Age  SibSp  Parch      Ticket  \\\n",
       "PassengerId                                                                  \n",
       "287                 1       3    male  30.000000      0      0      345774   \n",
       "726                 0       3    male  20.000000      0      0      315094   \n",
       "859                 1       3  female  24.000000      0      3        2666   \n",
       "447                 1       2  female  13.000000      0      1      250644   \n",
       "240                 0       2    male  33.000000      0      0  SCO/W 1585   \n",
       "341                 1       2    male   2.000000      1      1      230080   \n",
       "360                 1       3  female  21.570423      0      0      330980   \n",
       "269                 1       1  female  58.000000      0      1    PC 17582   \n",
       "804                 1       3    male   0.420000      0      1        2625   \n",
       "456                 1       3    male  29.000000      0      0      349240   \n",
       "\n",
       "                 Fare Cabin Embarked  Annots FareCategory  \n",
       "PassengerId                                                \n",
       "287            9.5000     Z        S      Mr        Basic  \n",
       "726            8.6625     Z        S      Mr        Basic  \n",
       "859           19.2583     Z        C     Mrs        Basic  \n",
       "447           19.5000     Z        S    Miss        Basic  \n",
       "240           12.2750     Z        S      Mr        Basic  \n",
       "341           26.0000    F2        S  Master       Medium  \n",
       "360            7.8792     Z        Q    Miss        Basic  \n",
       "269          153.4625  C125        S     Mrs         High  \n",
       "804            8.5167     Z        C  Master        Basic  \n",
       "456            7.8958     Z        C      Mr        Basic  "
      ]
     },
     "execution_count": 35,
     "metadata": {},
     "output_type": "execute_result"
    }
   ],
   "source": [
    "df_raw.sample(10)"
   ]
  },
  {
   "cell_type": "code",
   "execution_count": 36,
   "id": "f19ba5fe-5306-4380-92c3-78233a6ef18c",
   "metadata": {},
   "outputs": [
    {
     "name": "stdout",
     "output_type": "stream",
     "text": [
      "<class 'pandas.core.frame.DataFrame'>\n",
      "Index: 886 entries, 1 to 891\n",
      "Data columns (total 12 columns):\n",
      " #   Column        Non-Null Count  Dtype   \n",
      "---  ------        --------------  -----   \n",
      " 0   Survived      886 non-null    int64   \n",
      " 1   Pclass        886 non-null    int64   \n",
      " 2   Sex           886 non-null    object  \n",
      " 3   Age           886 non-null    float64 \n",
      " 4   SibSp         886 non-null    int64   \n",
      " 5   Parch         886 non-null    int64   \n",
      " 6   Ticket        886 non-null    object  \n",
      " 7   Fare          886 non-null    float64 \n",
      " 8   Cabin         886 non-null    object  \n",
      " 9   Embarked      886 non-null    object  \n",
      " 10  Annots        886 non-null    object  \n",
      " 11  FareCategory  886 non-null    category\n",
      "dtypes: category(1), float64(2), int64(4), object(5)\n",
      "memory usage: 116.4+ KB\n"
     ]
    }
   ],
   "source": [
    "df_raw.info()"
   ]
  },
  {
   "cell_type": "markdown",
   "id": "81c665b7-1fbb-442b-8eb9-5f3754887635",
   "metadata": {
    "jp-MarkdownHeadingCollapsed": true
   },
   "source": [
    "### Creating the AgeCategory from the Age Column --modified"
   ]
  },
  {
   "cell_type": "code",
   "execution_count": 37,
   "id": "9271eaf5-29a4-4f36-9a10-f9de280e3203",
   "metadata": {},
   "outputs": [
    {
     "data": {
      "text/plain": [
       "<Axes: >"
      ]
     },
     "execution_count": 37,
     "metadata": {},
     "output_type": "execute_result"
    },
    {
     "data": {
      "image/png": "[encoded data removed]",
      "text/plain": [
       "<Figure size 640x480 with 1 Axes>"
      ]
     },
     "metadata": {},
     "output_type": "display_data"
    }
   ],
   "source": [
    "df_raw['Age'].plot(kind = 'box')"
   ]
  },
  {
   "cell_type": "code",
   "execution_count": 38,
   "id": "6c1cd59d-c95d-44e4-b6af-221b40323108",
   "metadata": {},
   "outputs": [],
   "source": [
    "df_raw['AgeCategory'] = pd.cut(\n",
    "    df_raw.loc[:, 'Age'], \n",
    "    bins = [0, 25, 50, np.inf], \n",
    "    labels = ['<25', '<50', '>50']\n",
    ")"
   ]
  },
  {
   "cell_type": "code",
   "execution_count": 39,
   "id": "79125c0b-9a30-47a5-b968-e1ad7ed7fef4",
   "metadata": {},
   "outputs": [
    {
     "data": {
      "text/plain": [
       "<Axes: xlabel='AgeCategory'>"
      ]
     },
     "execution_count": 39,
     "metadata": {},
     "output_type": "execute_result"
    },
    {
     "data": {
      "image/png": "[encoded data removed]",
      "text/plain": [
       "<Figure size 640x480 with 1 Axes>"
      ]
     },
     "metadata": {},
     "output_type": "display_data"
    }
   ],
   "source": [
    "df_raw['AgeCategory'].value_counts().plot(kind = 'bar')"
   ]
  },
  {
   "cell_type": "code",
   "execution_count": 40,
   "id": "76db3521-88bb-45d9-b35c-49ebcc281ce4",
   "metadata": {},
   "outputs": [
    {
     "data": {
      "text/html": [
       "<div>\n",
       "<style scoped>\n",
       "    .dataframe tbody tr th:only-of-type {\n",
       "        vertical-align: middle;\n",
       "    }\n",
       "\n",
       "    .dataframe tbody tr th {\n",
       "        vertical-align: top;\n",
       "    }\n",
       "\n",
       "    .dataframe thead th {\n",
       "        text-align: right;\n",
       "    }\n",
       "</style>\n",
       "<table border=\"1\" class=\"dataframe\">\n",
       "  <thead>\n",
       "    <tr style=\"text-align: right;\">\n",
       "      <th></th>\n",
       "      <th>Survived</th>\n",
       "      <th>Pclass</th>\n",
       "      <th>Sex</th>\n",
       "      <th>Age</th>\n",
       "      <th>SibSp</th>\n",
       "      <th>Parch</th>\n",
       "      <th>Ticket</th>\n",
       "      <th>Fare</th>\n",
       "      <th>Cabin</th>\n",
       "      <th>Embarked</th>\n",
       "      <th>Annots</th>\n",
       "      <th>FareCategory</th>\n",
       "      <th>AgeCategory</th>\n",
       "    </tr>\n",
       "    <tr>\n",
       "      <th>PassengerId</th>\n",
       "      <th></th>\n",
       "      <th></th>\n",
       "      <th></th>\n",
       "      <th></th>\n",
       "      <th></th>\n",
       "      <th></th>\n",
       "      <th></th>\n",
       "      <th></th>\n",
       "      <th></th>\n",
       "      <th></th>\n",
       "      <th></th>\n",
       "      <th></th>\n",
       "      <th></th>\n",
       "    </tr>\n",
       "  </thead>\n",
       "  <tbody>\n",
       "    <tr>\n",
       "      <th>1</th>\n",
       "      <td>0</td>\n",
       "      <td>3</td>\n",
       "      <td>male</td>\n",
       "      <td>22.0</td>\n",
       "      <td>1</td>\n",
       "      <td>0</td>\n",
       "      <td>A/5 21171</td>\n",
       "      <td>7.2500</td>\n",
       "      <td>Z</td>\n",
       "      <td>S</td>\n",
       "      <td>Mr</td>\n",
       "      <td>Basic</td>\n",
       "      <td>&lt;25</td>\n",
       "    </tr>\n",
       "    <tr>\n",
       "      <th>2</th>\n",
       "      <td>1</td>\n",
       "      <td>1</td>\n",
       "      <td>female</td>\n",
       "      <td>38.0</td>\n",
       "      <td>1</td>\n",
       "      <td>0</td>\n",
       "      <td>PC 17599</td>\n",
       "      <td>71.2833</td>\n",
       "      <td>C85</td>\n",
       "      <td>C</td>\n",
       "      <td>Mrs</td>\n",
       "      <td>High</td>\n",
       "      <td>&lt;50</td>\n",
       "    </tr>\n",
       "    <tr>\n",
       "      <th>3</th>\n",
       "      <td>1</td>\n",
       "      <td>3</td>\n",
       "      <td>female</td>\n",
       "      <td>26.0</td>\n",
       "      <td>0</td>\n",
       "      <td>0</td>\n",
       "      <td>STON/O2. 3101282</td>\n",
       "      <td>7.9250</td>\n",
       "      <td>Z</td>\n",
       "      <td>S</td>\n",
       "      <td>Miss</td>\n",
       "      <td>Basic</td>\n",
       "      <td>&lt;50</td>\n",
       "    </tr>\n",
       "    <tr>\n",
       "      <th>4</th>\n",
       "      <td>1</td>\n",
       "      <td>1</td>\n",
       "      <td>female</td>\n",
       "      <td>35.0</td>\n",
       "      <td>1</td>\n",
       "      <td>0</td>\n",
       "      <td>113803</td>\n",
       "      <td>53.1000</td>\n",
       "      <td>C123</td>\n",
       "      <td>S</td>\n",
       "      <td>Mrs</td>\n",
       "      <td>Medium</td>\n",
       "      <td>&lt;50</td>\n",
       "    </tr>\n",
       "    <tr>\n",
       "      <th>5</th>\n",
       "      <td>0</td>\n",
       "      <td>3</td>\n",
       "      <td>male</td>\n",
       "      <td>35.0</td>\n",
       "      <td>0</td>\n",
       "      <td>0</td>\n",
       "      <td>373450</td>\n",
       "      <td>8.0500</td>\n",
       "      <td>Z</td>\n",
       "      <td>S</td>\n",
       "      <td>Mr</td>\n",
       "      <td>Basic</td>\n",
       "      <td>&lt;50</td>\n",
       "    </tr>\n",
       "  </tbody>\n",
       "</table>\n",
       "</div>"
      ],
      "text/plain": [
       "             Survived  Pclass     Sex   Age  SibSp  Parch            Ticket  \\\n",
       "PassengerId                                                                   \n",
       "1                   0       3    male  22.0      1      0         A/5 21171   \n",
       "2                   1       1  female  38.0      1      0          PC 17599   \n",
       "3                   1       3  female  26.0      0      0  STON/O2. 3101282   \n",
       "4                   1       1  female  35.0      1      0            113803   \n",
       "5                   0       3    male  35.0      0      0            373450   \n",
       "\n",
       "                Fare Cabin Embarked Annots FareCategory AgeCategory  \n",
       "PassengerId                                                          \n",
       "1             7.2500     Z        S     Mr        Basic         <25  \n",
       "2            71.2833   C85        C    Mrs         High         <50  \n",
       "3             7.9250     Z        S   Miss        Basic         <50  \n",
       "4            53.1000  C123        S    Mrs       Medium         <50  \n",
       "5             8.0500     Z        S     Mr        Basic         <50  "
      ]
     },
     "execution_count": 40,
     "metadata": {},
     "output_type": "execute_result"
    }
   ],
   "source": [
    "df_raw.head()"
   ]
  },
  {
   "cell_type": "code",
   "execution_count": 41,
   "id": "396a94f1-b8fc-4f71-90b5-875e02e5fe0f",
   "metadata": {},
   "outputs": [
    {
     "name": "stdout",
     "output_type": "stream",
     "text": [
      "<class 'pandas.core.frame.DataFrame'>\n",
      "Index: 886 entries, 1 to 891\n",
      "Data columns (total 13 columns):\n",
      " #   Column        Non-Null Count  Dtype   \n",
      "---  ------        --------------  -----   \n",
      " 0   Survived      886 non-null    int64   \n",
      " 1   Pclass        886 non-null    int64   \n",
      " 2   Sex           886 non-null    object  \n",
      " 3   Age           886 non-null    float64 \n",
      " 4   SibSp         886 non-null    int64   \n",
      " 5   Parch         886 non-null    int64   \n",
      " 6   Ticket        886 non-null    object  \n",
      " 7   Fare          886 non-null    float64 \n",
      " 8   Cabin         886 non-null    object  \n",
      " 9   Embarked      886 non-null    object  \n",
      " 10  Annots        886 non-null    object  \n",
      " 11  FareCategory  886 non-null    category\n",
      " 12  AgeCategory   886 non-null    category\n",
      "dtypes: category(2), float64(2), int64(4), object(5)\n",
      "memory usage: 117.4+ KB\n"
     ]
    }
   ],
   "source": [
    "df_raw.info()"
   ]
  },
  {
   "cell_type": "markdown",
   "id": "5444b8f7-9ca0-4510-9e05-4b6dbd6cea05",
   "metadata": {
    "jp-MarkdownHeadingCollapsed": true
   },
   "source": [
    "### Creating the HasFamilyAboard column from the Sibsp and Parch column"
   ]
  },
  {
   "cell_type": "code",
   "execution_count": 42,
   "id": "4dea86ea-4516-41b8-a013-3628e894c9cf",
   "metadata": {},
   "outputs": [],
   "source": [
    "df_raw['HasFamily'] = (df_raw['SibSp'] + df_raw['Parch']) > 0\n",
    "df_raw['NoOfFamily'] = (df_raw['SibSp'] + df_raw['Parch']) "
   ]
  },
  {
   "cell_type": "code",
   "execution_count": 43,
   "id": "203e7a2f-9be1-499d-8148-7c603366c2e9",
   "metadata": {},
   "outputs": [
    {
     "data": {
      "text/html": [
       "<div>\n",
       "<style scoped>\n",
       "    .dataframe tbody tr th:only-of-type {\n",
       "        vertical-align: middle;\n",
       "    }\n",
       "\n",
       "    .dataframe tbody tr th {\n",
       "        vertical-align: top;\n",
       "    }\n",
       "\n",
       "    .dataframe thead th {\n",
       "        text-align: right;\n",
       "    }\n",
       "</style>\n",
       "<table border=\"1\" class=\"dataframe\">\n",
       "  <thead>\n",
       "    <tr style=\"text-align: right;\">\n",
       "      <th></th>\n",
       "      <th>Survived</th>\n",
       "      <th>Pclass</th>\n",
       "      <th>Sex</th>\n",
       "      <th>Age</th>\n",
       "      <th>SibSp</th>\n",
       "      <th>Parch</th>\n",
       "      <th>Ticket</th>\n",
       "      <th>Fare</th>\n",
       "      <th>Cabin</th>\n",
       "      <th>Embarked</th>\n",
       "      <th>Annots</th>\n",
       "      <th>FareCategory</th>\n",
       "      <th>AgeCategory</th>\n",
       "      <th>HasFamily</th>\n",
       "      <th>NoOfFamily</th>\n",
       "    </tr>\n",
       "    <tr>\n",
       "      <th>PassengerId</th>\n",
       "      <th></th>\n",
       "      <th></th>\n",
       "      <th></th>\n",
       "      <th></th>\n",
       "      <th></th>\n",
       "      <th></th>\n",
       "      <th></th>\n",
       "      <th></th>\n",
       "      <th></th>\n",
       "      <th></th>\n",
       "      <th></th>\n",
       "      <th></th>\n",
       "      <th></th>\n",
       "      <th></th>\n",
       "      <th></th>\n",
       "    </tr>\n",
       "  </thead>\n",
       "  <tbody>\n",
       "    <tr>\n",
       "      <th>362</th>\n",
       "      <td>0</td>\n",
       "      <td>2</td>\n",
       "      <td>male</td>\n",
       "      <td>29.0</td>\n",
       "      <td>1</td>\n",
       "      <td>0</td>\n",
       "      <td>SC/PARIS 2167</td>\n",
       "      <td>27.7208</td>\n",
       "      <td>Z</td>\n",
       "      <td>C</td>\n",
       "      <td>Mr</td>\n",
       "      <td>Medium</td>\n",
       "      <td>&lt;50</td>\n",
       "      <td>True</td>\n",
       "      <td>1</td>\n",
       "    </tr>\n",
       "    <tr>\n",
       "      <th>616</th>\n",
       "      <td>1</td>\n",
       "      <td>2</td>\n",
       "      <td>female</td>\n",
       "      <td>24.0</td>\n",
       "      <td>1</td>\n",
       "      <td>2</td>\n",
       "      <td>220845</td>\n",
       "      <td>65.0000</td>\n",
       "      <td>Z</td>\n",
       "      <td>S</td>\n",
       "      <td>Miss</td>\n",
       "      <td>High</td>\n",
       "      <td>&lt;25</td>\n",
       "      <td>True</td>\n",
       "      <td>3</td>\n",
       "    </tr>\n",
       "    <tr>\n",
       "      <th>248</th>\n",
       "      <td>1</td>\n",
       "      <td>2</td>\n",
       "      <td>female</td>\n",
       "      <td>24.0</td>\n",
       "      <td>0</td>\n",
       "      <td>2</td>\n",
       "      <td>250649</td>\n",
       "      <td>14.5000</td>\n",
       "      <td>Z</td>\n",
       "      <td>S</td>\n",
       "      <td>Mrs</td>\n",
       "      <td>Basic</td>\n",
       "      <td>&lt;25</td>\n",
       "      <td>True</td>\n",
       "      <td>2</td>\n",
       "    </tr>\n",
       "    <tr>\n",
       "      <th>317</th>\n",
       "      <td>1</td>\n",
       "      <td>2</td>\n",
       "      <td>female</td>\n",
       "      <td>24.0</td>\n",
       "      <td>1</td>\n",
       "      <td>0</td>\n",
       "      <td>244367</td>\n",
       "      <td>26.0000</td>\n",
       "      <td>Z</td>\n",
       "      <td>S</td>\n",
       "      <td>Mrs</td>\n",
       "      <td>Medium</td>\n",
       "      <td>&lt;25</td>\n",
       "      <td>True</td>\n",
       "      <td>1</td>\n",
       "    </tr>\n",
       "    <tr>\n",
       "      <th>876</th>\n",
       "      <td>1</td>\n",
       "      <td>3</td>\n",
       "      <td>female</td>\n",
       "      <td>15.0</td>\n",
       "      <td>0</td>\n",
       "      <td>0</td>\n",
       "      <td>2667</td>\n",
       "      <td>7.2250</td>\n",
       "      <td>Z</td>\n",
       "      <td>C</td>\n",
       "      <td>Miss</td>\n",
       "      <td>Basic</td>\n",
       "      <td>&lt;25</td>\n",
       "      <td>False</td>\n",
       "      <td>0</td>\n",
       "    </tr>\n",
       "  </tbody>\n",
       "</table>\n",
       "</div>"
      ],
      "text/plain": [
       "             Survived  Pclass     Sex   Age  SibSp  Parch         Ticket  \\\n",
       "PassengerId                                                                \n",
       "362                 0       2    male  29.0      1      0  SC/PARIS 2167   \n",
       "616                 1       2  female  24.0      1      2         220845   \n",
       "248                 1       2  female  24.0      0      2         250649   \n",
       "317                 1       2  female  24.0      1      0         244367   \n",
       "876                 1       3  female  15.0      0      0           2667   \n",
       "\n",
       "                Fare Cabin Embarked Annots FareCategory AgeCategory  \\\n",
       "PassengerId                                                           \n",
       "362          27.7208     Z        C     Mr       Medium         <50   \n",
       "616          65.0000     Z        S   Miss         High         <25   \n",
       "248          14.5000     Z        S    Mrs        Basic         <25   \n",
       "317          26.0000     Z        S    Mrs       Medium         <25   \n",
       "876           7.2250     Z        C   Miss        Basic         <25   \n",
       "\n",
       "             HasFamily  NoOfFamily  \n",
       "PassengerId                         \n",
       "362               True           1  \n",
       "616               True           3  \n",
       "248               True           2  \n",
       "317               True           1  \n",
       "876              False           0  "
      ]
     },
     "execution_count": 43,
     "metadata": {},
     "output_type": "execute_result"
    }
   ],
   "source": [
    "df_raw.sample(5)"
   ]
  },
  {
   "cell_type": "markdown",
   "id": "a07a03db-3256-43f7-93ad-ac14deab0f5e",
   "metadata": {
    "jp-MarkdownHeadingCollapsed": true
   },
   "source": [
    "### Handling The ticket Column"
   ]
  },
  {
   "cell_type": "code",
   "execution_count": 44,
   "id": "7b51f266-757c-4fd7-8617-64dec8f6d6ac",
   "metadata": {},
   "outputs": [],
   "source": [
    "df_raw.drop('Ticket', axis = 1, inplace = True)"
   ]
  },
  {
   "cell_type": "markdown",
   "id": "fa10c187-ae91-4b20-a9eb-5d6462b52ac6",
   "metadata": {
    "jp-MarkdownHeadingCollapsed": true
   },
   "source": [
    "### Final Cleaning and Organizing"
   ]
  },
  {
   "cell_type": "code",
   "execution_count": 45,
   "id": "edfd11d4-3496-4560-8bea-a18527e8786b",
   "metadata": {},
   "outputs": [
    {
     "data": {
      "text/html": [
       "<div>\n",
       "<style scoped>\n",
       "    .dataframe tbody tr th:only-of-type {\n",
       "        vertical-align: middle;\n",
       "    }\n",
       "\n",
       "    .dataframe tbody tr th {\n",
       "        vertical-align: top;\n",
       "    }\n",
       "\n",
       "    .dataframe thead th {\n",
       "        text-align: right;\n",
       "    }\n",
       "</style>\n",
       "<table border=\"1\" class=\"dataframe\">\n",
       "  <thead>\n",
       "    <tr style=\"text-align: right;\">\n",
       "      <th></th>\n",
       "      <th>Survived</th>\n",
       "      <th>Pclass</th>\n",
       "      <th>Age</th>\n",
       "      <th>SibSp</th>\n",
       "      <th>Parch</th>\n",
       "      <th>Fare</th>\n",
       "      <th>Cabin</th>\n",
       "      <th>Embarked</th>\n",
       "      <th>Annots</th>\n",
       "      <th>FareCategory</th>\n",
       "      <th>AgeCategory</th>\n",
       "      <th>NoOfFamily</th>\n",
       "      <th>Sex_female</th>\n",
       "      <th>Sex_male</th>\n",
       "      <th>HasFamily_False</th>\n",
       "      <th>HasFamily_True</th>\n",
       "    </tr>\n",
       "    <tr>\n",
       "      <th>PassengerId</th>\n",
       "      <th></th>\n",
       "      <th></th>\n",
       "      <th></th>\n",
       "      <th></th>\n",
       "      <th></th>\n",
       "      <th></th>\n",
       "      <th></th>\n",
       "      <th></th>\n",
       "      <th></th>\n",
       "      <th></th>\n",
       "      <th></th>\n",
       "      <th></th>\n",
       "      <th></th>\n",
       "      <th></th>\n",
       "      <th></th>\n",
       "      <th></th>\n",
       "    </tr>\n",
       "  </thead>\n",
       "  <tbody>\n",
       "    <tr>\n",
       "      <th>1</th>\n",
       "      <td>0</td>\n",
       "      <td>3</td>\n",
       "      <td>22.0</td>\n",
       "      <td>1</td>\n",
       "      <td>0</td>\n",
       "      <td>7.2500</td>\n",
       "      <td>Z</td>\n",
       "      <td>S</td>\n",
       "      <td>Mr</td>\n",
       "      <td>Basic</td>\n",
       "      <td>&lt;25</td>\n",
       "      <td>1</td>\n",
       "      <td>False</td>\n",
       "      <td>True</td>\n",
       "      <td>False</td>\n",
       "      <td>True</td>\n",
       "    </tr>\n",
       "    <tr>\n",
       "      <th>2</th>\n",
       "      <td>1</td>\n",
       "      <td>1</td>\n",
       "      <td>38.0</td>\n",
       "      <td>1</td>\n",
       "      <td>0</td>\n",
       "      <td>71.2833</td>\n",
       "      <td>C85</td>\n",
       "      <td>C</td>\n",
       "      <td>Mrs</td>\n",
       "      <td>High</td>\n",
       "      <td>&lt;50</td>\n",
       "      <td>1</td>\n",
       "      <td>True</td>\n",
       "      <td>False</td>\n",
       "      <td>False</td>\n",
       "      <td>True</td>\n",
       "    </tr>\n",
       "    <tr>\n",
       "      <th>3</th>\n",
       "      <td>1</td>\n",
       "      <td>3</td>\n",
       "      <td>26.0</td>\n",
       "      <td>0</td>\n",
       "      <td>0</td>\n",
       "      <td>7.9250</td>\n",
       "      <td>Z</td>\n",
       "      <td>S</td>\n",
       "      <td>Miss</td>\n",
       "      <td>Basic</td>\n",
       "      <td>&lt;50</td>\n",
       "      <td>0</td>\n",
       "      <td>True</td>\n",
       "      <td>False</td>\n",
       "      <td>True</td>\n",
       "      <td>False</td>\n",
       "    </tr>\n",
       "    <tr>\n",
       "      <th>4</th>\n",
       "      <td>1</td>\n",
       "      <td>1</td>\n",
       "      <td>35.0</td>\n",
       "      <td>1</td>\n",
       "      <td>0</td>\n",
       "      <td>53.1000</td>\n",
       "      <td>C123</td>\n",
       "      <td>S</td>\n",
       "      <td>Mrs</td>\n",
       "      <td>Medium</td>\n",
       "      <td>&lt;50</td>\n",
       "      <td>1</td>\n",
       "      <td>True</td>\n",
       "      <td>False</td>\n",
       "      <td>False</td>\n",
       "      <td>True</td>\n",
       "    </tr>\n",
       "    <tr>\n",
       "      <th>5</th>\n",
       "      <td>0</td>\n",
       "      <td>3</td>\n",
       "      <td>35.0</td>\n",
       "      <td>0</td>\n",
       "      <td>0</td>\n",
       "      <td>8.0500</td>\n",
       "      <td>Z</td>\n",
       "      <td>S</td>\n",
       "      <td>Mr</td>\n",
       "      <td>Basic</td>\n",
       "      <td>&lt;50</td>\n",
       "      <td>0</td>\n",
       "      <td>False</td>\n",
       "      <td>True</td>\n",
       "      <td>True</td>\n",
       "      <td>False</td>\n",
       "    </tr>\n",
       "  </tbody>\n",
       "</table>\n",
       "</div>"
      ],
      "text/plain": [
       "             Survived  Pclass   Age  SibSp  Parch     Fare Cabin Embarked  \\\n",
       "PassengerId                                                                 \n",
       "1                   0       3  22.0      1      0   7.2500     Z        S   \n",
       "2                   1       1  38.0      1      0  71.2833   C85        C   \n",
       "3                   1       3  26.0      0      0   7.9250     Z        S   \n",
       "4                   1       1  35.0      1      0  53.1000  C123        S   \n",
       "5                   0       3  35.0      0      0   8.0500     Z        S   \n",
       "\n",
       "            Annots FareCategory AgeCategory  NoOfFamily  Sex_female  Sex_male  \\\n",
       "PassengerId                                                                     \n",
       "1               Mr        Basic         <25           1       False      True   \n",
       "2              Mrs         High         <50           1        True     False   \n",
       "3             Miss        Basic         <50           0        True     False   \n",
       "4              Mrs       Medium         <50           1        True     False   \n",
       "5               Mr        Basic         <50           0       False      True   \n",
       "\n",
       "             HasFamily_False  HasFamily_True  \n",
       "PassengerId                                   \n",
       "1                      False            True  \n",
       "2                      False            True  \n",
       "3                       True           False  \n",
       "4                      False            True  \n",
       "5                       True           False  "
      ]
     },
     "execution_count": 45,
     "metadata": {},
     "output_type": "execute_result"
    }
   ],
   "source": [
    "one_hot = OneHotEncoder()\n",
    "df_raw = pd.get_dummies(df_raw, columns = ['Sex', 'HasFamily'])\n",
    "df_raw.head()"
   ]
  },
  {
   "cell_type": "code",
   "execution_count": 46,
   "id": "f8577a32-033d-41d3-b0c0-28da0221eefb",
   "metadata": {},
   "outputs": [
    {
     "data": {
      "text/html": [
       "<div>\n",
       "<style scoped>\n",
       "    .dataframe tbody tr th:only-of-type {\n",
       "        vertical-align: middle;\n",
       "    }\n",
       "\n",
       "    .dataframe tbody tr th {\n",
       "        vertical-align: top;\n",
       "    }\n",
       "\n",
       "    .dataframe thead th {\n",
       "        text-align: right;\n",
       "    }\n",
       "</style>\n",
       "<table border=\"1\" class=\"dataframe\">\n",
       "  <thead>\n",
       "    <tr style=\"text-align: right;\">\n",
       "      <th></th>\n",
       "      <th>Survived</th>\n",
       "      <th>Pclass</th>\n",
       "      <th>Age</th>\n",
       "      <th>SibSp</th>\n",
       "      <th>Parch</th>\n",
       "      <th>Fare</th>\n",
       "      <th>Cabin</th>\n",
       "      <th>Embarked</th>\n",
       "      <th>Annots</th>\n",
       "      <th>FareCategory</th>\n",
       "      <th>AgeCategory</th>\n",
       "      <th>NoOfFamily</th>\n",
       "      <th>Sex_female</th>\n",
       "      <th>Sex_male</th>\n",
       "      <th>HasFamily_False</th>\n",
       "      <th>HasFamily_True</th>\n",
       "    </tr>\n",
       "    <tr>\n",
       "      <th>PassengerId</th>\n",
       "      <th></th>\n",
       "      <th></th>\n",
       "      <th></th>\n",
       "      <th></th>\n",
       "      <th></th>\n",
       "      <th></th>\n",
       "      <th></th>\n",
       "      <th></th>\n",
       "      <th></th>\n",
       "      <th></th>\n",
       "      <th></th>\n",
       "      <th></th>\n",
       "      <th></th>\n",
       "      <th></th>\n",
       "      <th></th>\n",
       "      <th></th>\n",
       "    </tr>\n",
       "  </thead>\n",
       "  <tbody>\n",
       "    <tr>\n",
       "      <th>1</th>\n",
       "      <td>0</td>\n",
       "      <td>3</td>\n",
       "      <td>22.0</td>\n",
       "      <td>1</td>\n",
       "      <td>0</td>\n",
       "      <td>7.2500</td>\n",
       "      <td>145.0</td>\n",
       "      <td>2.0</td>\n",
       "      <td>2.0</td>\n",
       "      <td>0.0</td>\n",
       "      <td>0.0</td>\n",
       "      <td>1.0</td>\n",
       "      <td>False</td>\n",
       "      <td>True</td>\n",
       "      <td>False</td>\n",
       "      <td>True</td>\n",
       "    </tr>\n",
       "    <tr>\n",
       "      <th>2</th>\n",
       "      <td>1</td>\n",
       "      <td>1</td>\n",
       "      <td>38.0</td>\n",
       "      <td>1</td>\n",
       "      <td>0</td>\n",
       "      <td>71.2833</td>\n",
       "      <td>79.0</td>\n",
       "      <td>0.0</td>\n",
       "      <td>3.0</td>\n",
       "      <td>2.0</td>\n",
       "      <td>1.0</td>\n",
       "      <td>1.0</td>\n",
       "      <td>True</td>\n",
       "      <td>False</td>\n",
       "      <td>False</td>\n",
       "      <td>True</td>\n",
       "    </tr>\n",
       "    <tr>\n",
       "      <th>3</th>\n",
       "      <td>1</td>\n",
       "      <td>3</td>\n",
       "      <td>26.0</td>\n",
       "      <td>0</td>\n",
       "      <td>0</td>\n",
       "      <td>7.9250</td>\n",
       "      <td>145.0</td>\n",
       "      <td>2.0</td>\n",
       "      <td>1.0</td>\n",
       "      <td>0.0</td>\n",
       "      <td>1.0</td>\n",
       "      <td>0.0</td>\n",
       "      <td>True</td>\n",
       "      <td>False</td>\n",
       "      <td>True</td>\n",
       "      <td>False</td>\n",
       "    </tr>\n",
       "    <tr>\n",
       "      <th>4</th>\n",
       "      <td>1</td>\n",
       "      <td>1</td>\n",
       "      <td>35.0</td>\n",
       "      <td>1</td>\n",
       "      <td>0</td>\n",
       "      <td>53.1000</td>\n",
       "      <td>53.0</td>\n",
       "      <td>2.0</td>\n",
       "      <td>3.0</td>\n",
       "      <td>3.0</td>\n",
       "      <td>1.0</td>\n",
       "      <td>1.0</td>\n",
       "      <td>True</td>\n",
       "      <td>False</td>\n",
       "      <td>False</td>\n",
       "      <td>True</td>\n",
       "    </tr>\n",
       "    <tr>\n",
       "      <th>5</th>\n",
       "      <td>0</td>\n",
       "      <td>3</td>\n",
       "      <td>35.0</td>\n",
       "      <td>0</td>\n",
       "      <td>0</td>\n",
       "      <td>8.0500</td>\n",
       "      <td>145.0</td>\n",
       "      <td>2.0</td>\n",
       "      <td>2.0</td>\n",
       "      <td>0.0</td>\n",
       "      <td>1.0</td>\n",
       "      <td>0.0</td>\n",
       "      <td>False</td>\n",
       "      <td>True</td>\n",
       "      <td>True</td>\n",
       "      <td>False</td>\n",
       "    </tr>\n",
       "  </tbody>\n",
       "</table>\n",
       "</div>"
      ],
      "text/plain": [
       "             Survived  Pclass   Age  SibSp  Parch     Fare  Cabin  Embarked  \\\n",
       "PassengerId                                                                   \n",
       "1                   0       3  22.0      1      0   7.2500  145.0       2.0   \n",
       "2                   1       1  38.0      1      0  71.2833   79.0       0.0   \n",
       "3                   1       3  26.0      0      0   7.9250  145.0       2.0   \n",
       "4                   1       1  35.0      1      0  53.1000   53.0       2.0   \n",
       "5                   0       3  35.0      0      0   8.0500  145.0       2.0   \n",
       "\n",
       "             Annots  FareCategory  AgeCategory  NoOfFamily  Sex_female  \\\n",
       "PassengerId                                                              \n",
       "1               2.0           0.0          0.0         1.0       False   \n",
       "2               3.0           2.0          1.0         1.0        True   \n",
       "3               1.0           0.0          1.0         0.0        True   \n",
       "4               3.0           3.0          1.0         1.0        True   \n",
       "5               2.0           0.0          1.0         0.0       False   \n",
       "\n",
       "             Sex_male  HasFamily_False  HasFamily_True  \n",
       "PassengerId                                             \n",
       "1                True            False            True  \n",
       "2               False            False            True  \n",
       "3               False             True           False  \n",
       "4               False            False            True  \n",
       "5                True             True           False  "
      ]
     },
     "execution_count": 46,
     "metadata": {},
     "output_type": "execute_result"
    }
   ],
   "source": [
    "ordinal = OrdinalEncoder()\n",
    "ordinal_cols = ['Cabin', 'Embarked', 'Annots', 'FareCategory', 'NoOfFamily', 'AgeCategory']\n",
    "cat_ordinal_changer = ordinal.fit_transform(df_raw[ordinal_cols])\n",
    "df_raw[ordinal_cols] = cat_ordinal_changer\n",
    "df_raw.head()"
   ]
  },
  {
   "cell_type": "code",
   "execution_count": 47,
   "id": "210eb9d4-234d-411d-99e7-76f299e385ea",
   "metadata": {},
   "outputs": [
    {
     "data": {
      "text/html": [
       "<div>\n",
       "<style scoped>\n",
       "    .dataframe tbody tr th:only-of-type {\n",
       "        vertical-align: middle;\n",
       "    }\n",
       "\n",
       "    .dataframe tbody tr th {\n",
       "        vertical-align: top;\n",
       "    }\n",
       "\n",
       "    .dataframe thead th {\n",
       "        text-align: right;\n",
       "    }\n",
       "</style>\n",
       "<table border=\"1\" class=\"dataframe\">\n",
       "  <thead>\n",
       "    <tr style=\"text-align: right;\">\n",
       "      <th></th>\n",
       "      <th>Survived</th>\n",
       "      <th>Pclass</th>\n",
       "      <th>Age</th>\n",
       "      <th>SibSp</th>\n",
       "      <th>Parch</th>\n",
       "      <th>Fare</th>\n",
       "      <th>Cabin</th>\n",
       "      <th>Embarked</th>\n",
       "      <th>Annots</th>\n",
       "      <th>FareCategory</th>\n",
       "      <th>AgeCategory</th>\n",
       "      <th>NoOfFamily</th>\n",
       "      <th>Sex_female</th>\n",
       "      <th>Sex_male</th>\n",
       "      <th>HasFamily_False</th>\n",
       "      <th>HasFamily_True</th>\n",
       "    </tr>\n",
       "    <tr>\n",
       "      <th>PassengerId</th>\n",
       "      <th></th>\n",
       "      <th></th>\n",
       "      <th></th>\n",
       "      <th></th>\n",
       "      <th></th>\n",
       "      <th></th>\n",
       "      <th></th>\n",
       "      <th></th>\n",
       "      <th></th>\n",
       "      <th></th>\n",
       "      <th></th>\n",
       "      <th></th>\n",
       "      <th></th>\n",
       "      <th></th>\n",
       "      <th></th>\n",
       "      <th></th>\n",
       "    </tr>\n",
       "  </thead>\n",
       "  <tbody>\n",
       "    <tr>\n",
       "      <th>1</th>\n",
       "      <td>0</td>\n",
       "      <td>3</td>\n",
       "      <td>22.0</td>\n",
       "      <td>1</td>\n",
       "      <td>0</td>\n",
       "      <td>7.2500</td>\n",
       "      <td>145</td>\n",
       "      <td>2</td>\n",
       "      <td>2</td>\n",
       "      <td>0</td>\n",
       "      <td>0</td>\n",
       "      <td>1</td>\n",
       "      <td>False</td>\n",
       "      <td>True</td>\n",
       "      <td>False</td>\n",
       "      <td>True</td>\n",
       "    </tr>\n",
       "    <tr>\n",
       "      <th>2</th>\n",
       "      <td>1</td>\n",
       "      <td>1</td>\n",
       "      <td>38.0</td>\n",
       "      <td>1</td>\n",
       "      <td>0</td>\n",
       "      <td>71.2833</td>\n",
       "      <td>79</td>\n",
       "      <td>0</td>\n",
       "      <td>3</td>\n",
       "      <td>2</td>\n",
       "      <td>1</td>\n",
       "      <td>1</td>\n",
       "      <td>True</td>\n",
       "      <td>False</td>\n",
       "      <td>False</td>\n",
       "      <td>True</td>\n",
       "    </tr>\n",
       "    <tr>\n",
       "      <th>3</th>\n",
       "      <td>1</td>\n",
       "      <td>3</td>\n",
       "      <td>26.0</td>\n",
       "      <td>0</td>\n",
       "      <td>0</td>\n",
       "      <td>7.9250</td>\n",
       "      <td>145</td>\n",
       "      <td>2</td>\n",
       "      <td>1</td>\n",
       "      <td>0</td>\n",
       "      <td>1</td>\n",
       "      <td>0</td>\n",
       "      <td>True</td>\n",
       "      <td>False</td>\n",
       "      <td>True</td>\n",
       "      <td>False</td>\n",
       "    </tr>\n",
       "    <tr>\n",
       "      <th>4</th>\n",
       "      <td>1</td>\n",
       "      <td>1</td>\n",
       "      <td>35.0</td>\n",
       "      <td>1</td>\n",
       "      <td>0</td>\n",
       "      <td>53.1000</td>\n",
       "      <td>53</td>\n",
       "      <td>2</td>\n",
       "      <td>3</td>\n",
       "      <td>3</td>\n",
       "      <td>1</td>\n",
       "      <td>1</td>\n",
       "      <td>True</td>\n",
       "      <td>False</td>\n",
       "      <td>False</td>\n",
       "      <td>True</td>\n",
       "    </tr>\n",
       "    <tr>\n",
       "      <th>5</th>\n",
       "      <td>0</td>\n",
       "      <td>3</td>\n",
       "      <td>35.0</td>\n",
       "      <td>0</td>\n",
       "      <td>0</td>\n",
       "      <td>8.0500</td>\n",
       "      <td>145</td>\n",
       "      <td>2</td>\n",
       "      <td>2</td>\n",
       "      <td>0</td>\n",
       "      <td>1</td>\n",
       "      <td>0</td>\n",
       "      <td>False</td>\n",
       "      <td>True</td>\n",
       "      <td>True</td>\n",
       "      <td>False</td>\n",
       "    </tr>\n",
       "  </tbody>\n",
       "</table>\n",
       "</div>"
      ],
      "text/plain": [
       "             Survived  Pclass   Age  SibSp  Parch     Fare  Cabin  Embarked  \\\n",
       "PassengerId                                                                   \n",
       "1                   0       3  22.0      1      0   7.2500    145         2   \n",
       "2                   1       1  38.0      1      0  71.2833     79         0   \n",
       "3                   1       3  26.0      0      0   7.9250    145         2   \n",
       "4                   1       1  35.0      1      0  53.1000     53         2   \n",
       "5                   0       3  35.0      0      0   8.0500    145         2   \n",
       "\n",
       "             Annots  FareCategory  AgeCategory  NoOfFamily  Sex_female  \\\n",
       "PassengerId                                                              \n",
       "1                 2             0            0           1       False   \n",
       "2                 3             2            1           1        True   \n",
       "3                 1             0            1           0        True   \n",
       "4                 3             3            1           1        True   \n",
       "5                 2             0            1           0       False   \n",
       "\n",
       "             Sex_male  HasFamily_False  HasFamily_True  \n",
       "PassengerId                                             \n",
       "1                True            False            True  \n",
       "2               False            False            True  \n",
       "3               False             True           False  \n",
       "4               False            False            True  \n",
       "5                True             True           False  "
      ]
     },
     "execution_count": 47,
     "metadata": {},
     "output_type": "execute_result"
    }
   ],
   "source": [
    "df_raw[ordinal_cols] = df_raw[ordinal_cols].astype('int')\n",
    "df_raw.head()"
   ]
  },
  {
   "cell_type": "code",
   "execution_count": 48,
   "id": "9d625967-90e3-4164-a135-7a310a4632b2",
   "metadata": {},
   "outputs": [
    {
     "data": {
      "text/plain": [
       "0"
      ]
     },
     "execution_count": 48,
     "metadata": {},
     "output_type": "execute_result"
    }
   ],
   "source": [
    "df_raw.Cabin.min()"
   ]
  },
  {
   "cell_type": "code",
   "execution_count": 49,
   "id": "d920bf0c-5a7e-4344-8f63-24c4bb8f4294",
   "metadata": {},
   "outputs": [
    {
     "data": {
      "text/plain": [
       "Survived           1.000000\n",
       "Sex_female         0.544129\n",
       "Fare               0.259188\n",
       "FareCategory       0.209120\n",
       "HasFamily_True     0.207676\n",
       "Parch              0.083691\n",
       "NoOfFamily         0.028986\n",
       "SibSp             -0.032095\n",
       "Annots            -0.058223\n",
       "AgeCategory       -0.082660\n",
       "Age               -0.097225\n",
       "Embarked          -0.162856\n",
       "HasFamily_False   -0.207676\n",
       "Cabin             -0.245244\n",
       "Pclass            -0.331075\n",
       "Sex_male          -0.544129\n",
       "Name: Survived, dtype: float64"
      ]
     },
     "execution_count": 49,
     "metadata": {},
     "output_type": "execute_result"
    }
   ],
   "source": [
    "df_raw.corr()['Survived'].sort_values(ascending = False)"
   ]
  },
  {
   "cell_type": "code",
   "execution_count": 50,
   "id": "df986e27-2a67-440b-b79e-975641022d5f",
   "metadata": {},
   "outputs": [],
   "source": [
    "df_raw.drop(['SibSp', 'Parch', 'Annots', 'NoOfFamily', 'AgeCategory', 'Age', 'Cabin', 'FareCategory'], axis = 1, inplace = True)\n",
    "# df_raw.drop(['FareCategory'], axis = 1, inplace = True)"
   ]
  },
  {
   "cell_type": "markdown",
   "id": "963dd74b-4ef0-41c1-bf5e-c813602fbce9",
   "metadata": {
    "jp-MarkdownHeadingCollapsed": true
   },
   "source": [
    "## Preparing Data for Modelling"
   ]
  },
  {
   "cell_type": "code",
   "execution_count": 51,
   "id": "9c13290f-b1d3-4efb-b8da-0fcb3682351b",
   "metadata": {},
   "outputs": [
    {
     "name": "stdout",
     "output_type": "stream",
     "text": [
      "<class 'pandas.core.frame.DataFrame'>\n",
      "Index: 886 entries, 1 to 891\n",
      "Data columns (total 8 columns):\n",
      " #   Column           Non-Null Count  Dtype  \n",
      "---  ------           --------------  -----  \n",
      " 0   Survived         886 non-null    int64  \n",
      " 1   Pclass           886 non-null    int64  \n",
      " 2   Fare             886 non-null    float64\n",
      " 3   Embarked         886 non-null    int64  \n",
      " 4   Sex_female       886 non-null    bool   \n",
      " 5   Sex_male         886 non-null    bool   \n",
      " 6   HasFamily_False  886 non-null    bool   \n",
      " 7   HasFamily_True   886 non-null    bool   \n",
      "dtypes: bool(4), float64(1), int64(3)\n",
      "memory usage: 70.4 KB\n"
     ]
    }
   ],
   "source": [
    "df_raw.info()"
   ]
  },
  {
   "cell_type": "code",
   "execution_count": 52,
   "id": "c197b243-fdb1-4f1a-a21d-0d52b445f04c",
   "metadata": {},
   "outputs": [],
   "source": [
    "mm_scaler = MinMaxScaler()\n",
    "fare = df_raw['Fare'].values\n",
    "df_raw['Fare'] = mm_scaler.fit_transform(fare.reshape(886, 1))\n"
   ]
  },
  {
   "cell_type": "code",
   "execution_count": 53,
   "id": "ca489c64-7d70-4672-90fa-31152cf85024",
   "metadata": {},
   "outputs": [],
   "source": [
    "X = df_raw.drop('Survived', axis =1).copy()\n",
    "y = df_raw['Survived'].copy()"
   ]
  },
  {
   "cell_type": "code",
   "execution_count": 54,
   "id": "0f70fb0f-895d-4107-81d7-36e262d20a25",
   "metadata": {},
   "outputs": [],
   "source": [
    "X_train, X_test, y_train, y_test = train_test_split(X, y,  test_size = 0.2, random_state = 42)"
   ]
  },
  {
   "cell_type": "code",
   "execution_count": 55,
   "id": "ebd6f906-116b-4e40-88de-a977bddb88d7",
   "metadata": {},
   "outputs": [
    {
     "data": {
      "text/plain": [
       "((708, 7), (708,), (178, 7), (178,))"
      ]
     },
     "execution_count": 55,
     "metadata": {},
     "output_type": "execute_result"
    }
   ],
   "source": [
    "X_train.shape, y_train.shape, X_test.shape, y_test.shape"
   ]
  },
  {
   "cell_type": "markdown",
   "id": "8cf8ef56-77b3-4571-ae50-a0e879a69610",
   "metadata": {
    "jp-MarkdownHeadingCollapsed": true
   },
   "source": [
    "## Modelling and Error Regulator"
   ]
  },
  {
   "cell_type": "code",
   "execution_count": 56,
   "id": "da85a066-add2-438f-9423-a0d24ce8c818",
   "metadata": {},
   "outputs": [
    {
     "data": {
      "text/html": [
       "<style>#sk-container-id-1 {color: black;background-color: white;}#sk-container-id-1 pre{padding: 0;}#sk-container-id-1 div.sk-toggleable {background-color: white;}#sk-container-id-1 label.sk-toggleable__label {cursor: pointer;display: block;width: 100%;margin-bottom: 0;padding: 0.3em;box-sizing: border-box;text-align: center;}#sk-container-id-1 label.sk-toggleable__label-arrow:before {content: \"▸\";float: left;margin-right: 0.25em;color: #696969;}#sk-container-id-1 label.sk-toggleable__label-arrow:hover:before {color: black;}#sk-container-id-1 div.sk-estimator:hover label.sk-toggleable__label-arrow:before {color: black;}#sk-container-id-1 div.sk-toggleable__content {max-height: 0;max-width: 0;overflow: hidden;text-align: left;background-color: #f0f8ff;}#sk-container-id-1 div.sk-toggleable__content pre {margin: 0.2em;color: black;border-radius: 0.25em;background-color: #f0f8ff;}#sk-container-id-1 input.sk-toggleable__control:checked~div.sk-toggleable__content {max-height: 200px;max-width: 100%;overflow: auto;}#sk-container-id-1 input.sk-toggleable__control:checked~label.sk-toggleable__label-arrow:before {content: \"▾\";}#sk-container-id-1 div.sk-estimator input.sk-toggleable__control:checked~label.sk-toggleable__label {background-color: #d4ebff;}#sk-container-id-1 div.sk-label input.sk-toggleable__control:checked~label.sk-toggleable__label {background-color: #d4ebff;}#sk-container-id-1 input.sk-hidden--visually {border: 0;clip: rect(1px 1px 1px 1px);clip: rect(1px, 1px, 1px, 1px);height: 1px;margin: -1px;overflow: hidden;padding: 0;position: absolute;width: 1px;}#sk-container-id-1 div.sk-estimator {font-family: monospace;background-color: #f0f8ff;border: 1px dotted black;border-radius: 0.25em;box-sizing: border-box;margin-bottom: 0.5em;}#sk-container-id-1 div.sk-estimator:hover {background-color: #d4ebff;}#sk-container-id-1 div.sk-parallel-item::after {content: \"\";width: 100%;border-bottom: 1px solid gray;flex-grow: 1;}#sk-container-id-1 div.sk-label:hover label.sk-toggleable__label {background-color: #d4ebff;}#sk-container-id-1 div.sk-serial::before {content: \"\";position: absolute;border-left: 1px solid gray;box-sizing: border-box;top: 0;bottom: 0;left: 50%;z-index: 0;}#sk-container-id-1 div.sk-serial {display: flex;flex-direction: column;align-items: center;background-color: white;padding-right: 0.2em;padding-left: 0.2em;position: relative;}#sk-container-id-1 div.sk-item {position: relative;z-index: 1;}#sk-container-id-1 div.sk-parallel {display: flex;align-items: stretch;justify-content: center;background-color: white;position: relative;}#sk-container-id-1 div.sk-item::before, #sk-container-id-1 div.sk-parallel-item::before {content: \"\";position: absolute;border-left: 1px solid gray;box-sizing: border-box;top: 0;bottom: 0;left: 50%;z-index: -1;}#sk-container-id-1 div.sk-parallel-item {display: flex;flex-direction: column;z-index: 1;position: relative;background-color: white;}#sk-container-id-1 div.sk-parallel-item:first-child::after {align-self: flex-end;width: 50%;}#sk-container-id-1 div.sk-parallel-item:last-child::after {align-self: flex-start;width: 50%;}#sk-container-id-1 div.sk-parallel-item:only-child::after {width: 0;}#sk-container-id-1 div.sk-dashed-wrapped {border: 1px dashed gray;margin: 0 0.4em 0.5em 0.4em;box-sizing: border-box;padding-bottom: 0.4em;background-color: white;}#sk-container-id-1 div.sk-label label {font-family: monospace;font-weight: bold;display: inline-block;line-height: 1.2em;}#sk-container-id-1 div.sk-label-container {text-align: center;}#sk-container-id-1 div.sk-container {/* jupyter's `normalize.less` sets `[hidden] { display: none; }` but bootstrap.min.css set `[hidden] { display: none !important; }` so we also need the `!important` here to be able to override the default hidden behavior on the sphinx rendered scikit-learn.org. See: https://github.com/scikit-learn/scikit-learn/issues/21755 */display: inline-block !important;position: relative;}#sk-container-id-1 div.sk-text-repr-fallback {display: none;}</style><div id=\"sk-container-id-1\" class=\"sk-top-container\"><div class=\"sk-text-repr-fallback\"><pre>LogisticRegression(max_iter=1000, random_state=42)</pre><b>In a Jupyter environment, please rerun this cell to show the HTML representation or trust the notebook. <br />On GitHub, the HTML representation is unable to render, please try loading this page with nbviewer.org.</b></div><div class=\"sk-container\" hidden><div class=\"sk-item\"><div class=\"sk-estimator sk-toggleable\"><input class=\"sk-toggleable__control sk-hidden--visually\" id=\"sk-estimator-id-1\" type=\"checkbox\" checked><label for=\"sk-estimator-id-1\" class=\"sk-toggleable__label sk-toggleable__label-arrow\">LogisticRegression</label><div class=\"sk-toggleable__content\"><pre>LogisticRegression(max_iter=1000, random_state=42)</pre></div></div></div></div></div>"
      ],
      "text/plain": [
       "LogisticRegression(max_iter=1000, random_state=42)"
      ]
     },
     "execution_count": 56,
     "metadata": {},
     "output_type": "execute_result"
    }
   ],
   "source": [
    "logreg = LogisticRegression(max_iter = 1000, random_state = 42)\n",
    "logreg.fit(X_train, y_train)"
   ]
  },
  {
   "cell_type": "code",
   "execution_count": 57,
   "id": "48b31a7b-4aec-4494-afee-c643b2774dae",
   "metadata": {},
   "outputs": [
    {
     "data": {
      "text/plain": [
       "(0.7584269662921348, (0.6835443037974683,), 0.75)"
      ]
     },
     "execution_count": 57,
     "metadata": {},
     "output_type": "execute_result"
    }
   ],
   "source": [
    "log_reg_pred = logreg.predict(X_test)\n",
    "log_acc = accuracy_score(y_test, log_reg_pred)\n",
    "log_precision = precision_score(y_test, log_reg_pred),\n",
    "log_recall = recall_score(y_test, log_reg_pred)\n",
    "log_acc, log_precision, log_recall"
   ]
  },
  {
   "cell_type": "code",
   "execution_count": 58,
   "id": "cf770440-67c2-4fcd-903a-2116259182cf",
   "metadata": {},
   "outputs": [
    {
     "data": {
      "text/html": [
       "<style>#sk-container-id-2 {color: black;background-color: white;}#sk-container-id-2 pre{padding: 0;}#sk-container-id-2 div.sk-toggleable {background-color: white;}#sk-container-id-2 label.sk-toggleable__label {cursor: pointer;display: block;width: 100%;margin-bottom: 0;padding: 0.3em;box-sizing: border-box;text-align: center;}#sk-container-id-2 label.sk-toggleable__label-arrow:before {content: \"▸\";float: left;margin-right: 0.25em;color: #696969;}#sk-container-id-2 label.sk-toggleable__label-arrow:hover:before {color: black;}#sk-container-id-2 div.sk-estimator:hover label.sk-toggleable__label-arrow:before {color: black;}#sk-container-id-2 div.sk-toggleable__content {max-height: 0;max-width: 0;overflow: hidden;text-align: left;background-color: #f0f8ff;}#sk-container-id-2 div.sk-toggleable__content pre {margin: 0.2em;color: black;border-radius: 0.25em;background-color: #f0f8ff;}#sk-container-id-2 input.sk-toggleable__control:checked~div.sk-toggleable__content {max-height: 200px;max-width: 100%;overflow: auto;}#sk-container-id-2 input.sk-toggleable__control:checked~label.sk-toggleable__label-arrow:before {content: \"▾\";}#sk-container-id-2 div.sk-estimator input.sk-toggleable__control:checked~label.sk-toggleable__label {background-color: #d4ebff;}#sk-container-id-2 div.sk-label input.sk-toggleable__control:checked~label.sk-toggleable__label {background-color: #d4ebff;}#sk-container-id-2 input.sk-hidden--visually {border: 0;clip: rect(1px 1px 1px 1px);clip: rect(1px, 1px, 1px, 1px);height: 1px;margin: -1px;overflow: hidden;padding: 0;position: absolute;width: 1px;}#sk-container-id-2 div.sk-estimator {font-family: monospace;background-color: #f0f8ff;border: 1px dotted black;border-radius: 0.25em;box-sizing: border-box;margin-bottom: 0.5em;}#sk-container-id-2 div.sk-estimator:hover {background-color: #d4ebff;}#sk-container-id-2 div.sk-parallel-item::after {content: \"\";width: 100%;border-bottom: 1px solid gray;flex-grow: 1;}#sk-container-id-2 div.sk-label:hover label.sk-toggleable__label {background-color: #d4ebff;}#sk-container-id-2 div.sk-serial::before {content: \"\";position: absolute;border-left: 1px solid gray;box-sizing: border-box;top: 0;bottom: 0;left: 50%;z-index: 0;}#sk-container-id-2 div.sk-serial {display: flex;flex-direction: column;align-items: center;background-color: white;padding-right: 0.2em;padding-left: 0.2em;position: relative;}#sk-container-id-2 div.sk-item {position: relative;z-index: 1;}#sk-container-id-2 div.sk-parallel {display: flex;align-items: stretch;justify-content: center;background-color: white;position: relative;}#sk-container-id-2 div.sk-item::before, #sk-container-id-2 div.sk-parallel-item::before {content: \"\";position: absolute;border-left: 1px solid gray;box-sizing: border-box;top: 0;bottom: 0;left: 50%;z-index: -1;}#sk-container-id-2 div.sk-parallel-item {display: flex;flex-direction: column;z-index: 1;position: relative;background-color: white;}#sk-container-id-2 div.sk-parallel-item:first-child::after {align-self: flex-end;width: 50%;}#sk-container-id-2 div.sk-parallel-item:last-child::after {align-self: flex-start;width: 50%;}#sk-container-id-2 div.sk-parallel-item:only-child::after {width: 0;}#sk-container-id-2 div.sk-dashed-wrapped {border: 1px dashed gray;margin: 0 0.4em 0.5em 0.4em;box-sizing: border-box;padding-bottom: 0.4em;background-color: white;}#sk-container-id-2 div.sk-label label {font-family: monospace;font-weight: bold;display: inline-block;line-height: 1.2em;}#sk-container-id-2 div.sk-label-container {text-align: center;}#sk-container-id-2 div.sk-container {/* jupyter's `normalize.less` sets `[hidden] { display: none; }` but bootstrap.min.css set `[hidden] { display: none !important; }` so we also need the `!important` here to be able to override the default hidden behavior on the sphinx rendered scikit-learn.org. See: https://github.com/scikit-learn/scikit-learn/issues/21755 */display: inline-block !important;position: relative;}#sk-container-id-2 div.sk-text-repr-fallback {display: none;}</style><div id=\"sk-container-id-2\" class=\"sk-top-container\"><div class=\"sk-text-repr-fallback\"><pre>DecisionTreeClassifier(random_state=42)</pre><b>In a Jupyter environment, please rerun this cell to show the HTML representation or trust the notebook. <br />On GitHub, the HTML representation is unable to render, please try loading this page with nbviewer.org.</b></div><div class=\"sk-container\" hidden><div class=\"sk-item\"><div class=\"sk-estimator sk-toggleable\"><input class=\"sk-toggleable__control sk-hidden--visually\" id=\"sk-estimator-id-2\" type=\"checkbox\" checked><label for=\"sk-estimator-id-2\" class=\"sk-toggleable__label sk-toggleable__label-arrow\">DecisionTreeClassifier</label><div class=\"sk-toggleable__content\"><pre>DecisionTreeClassifier(random_state=42)</pre></div></div></div></div></div>"
      ],
      "text/plain": [
       "DecisionTreeClassifier(random_state=42)"
      ]
     },
     "execution_count": 58,
     "metadata": {},
     "output_type": "execute_result"
    }
   ],
   "source": [
    "dtree = DecisionTreeClassifier(random_state = 42)\n",
    "dtree.fit(X_train, y_train)"
   ]
  },
  {
   "cell_type": "code",
   "execution_count": 59,
   "id": "5fbbd1e9-aa4c-41eb-9003-f95bff53c9b6",
   "metadata": {},
   "outputs": [
    {
     "data": {
      "text/plain": [
       "(0.7696629213483146, (0.7384615384615385,), 0.6666666666666666)"
      ]
     },
     "execution_count": 59,
     "metadata": {},
     "output_type": "execute_result"
    }
   ],
   "source": [
    "dtree_pred = dtree.predict(X_test)\n",
    "d_tree_acc = accuracy_score(y_test, dtree_pred)\n",
    "d_tree_precision = precision_score(y_test, dtree_pred),\n",
    "d_tree_recall = recall_score(y_test, dtree_pred)\n",
    "d_tree_acc, d_tree_precision, d_tree_recall"
   ]
  },
  {
   "cell_type": "code",
   "execution_count": 60,
   "id": "2655fa12-e328-4e42-89f1-dca8751f0461",
   "metadata": {},
   "outputs": [
    {
     "data": {
      "text/html": [
       "<style>#sk-container-id-3 {color: black;background-color: white;}#sk-container-id-3 pre{padding: 0;}#sk-container-id-3 div.sk-toggleable {background-color: white;}#sk-container-id-3 label.sk-toggleable__label {cursor: pointer;display: block;width: 100%;margin-bottom: 0;padding: 0.3em;box-sizing: border-box;text-align: center;}#sk-container-id-3 label.sk-toggleable__label-arrow:before {content: \"▸\";float: left;margin-right: 0.25em;color: #696969;}#sk-container-id-3 label.sk-toggleable__label-arrow:hover:before {color: black;}#sk-container-id-3 div.sk-estimator:hover label.sk-toggleable__label-arrow:before {color: black;}#sk-container-id-3 div.sk-toggleable__content {max-height: 0;max-width: 0;overflow: hidden;text-align: left;background-color: #f0f8ff;}#sk-container-id-3 div.sk-toggleable__content pre {margin: 0.2em;color: black;border-radius: 0.25em;background-color: #f0f8ff;}#sk-container-id-3 input.sk-toggleable__control:checked~div.sk-toggleable__content {max-height: 200px;max-width: 100%;overflow: auto;}#sk-container-id-3 input.sk-toggleable__control:checked~label.sk-toggleable__label-arrow:before {content: \"▾\";}#sk-container-id-3 div.sk-estimator input.sk-toggleable__control:checked~label.sk-toggleable__label {background-color: #d4ebff;}#sk-container-id-3 div.sk-label input.sk-toggleable__control:checked~label.sk-toggleable__label {background-color: #d4ebff;}#sk-container-id-3 input.sk-hidden--visually {border: 0;clip: rect(1px 1px 1px 1px);clip: rect(1px, 1px, 1px, 1px);height: 1px;margin: -1px;overflow: hidden;padding: 0;position: absolute;width: 1px;}#sk-container-id-3 div.sk-estimator {font-family: monospace;background-color: #f0f8ff;border: 1px dotted black;border-radius: 0.25em;box-sizing: border-box;margin-bottom: 0.5em;}#sk-container-id-3 div.sk-estimator:hover {background-color: #d4ebff;}#sk-container-id-3 div.sk-parallel-item::after {content: \"\";width: 100%;border-bottom: 1px solid gray;flex-grow: 1;}#sk-container-id-3 div.sk-label:hover label.sk-toggleable__label {background-color: #d4ebff;}#sk-container-id-3 div.sk-serial::before {content: \"\";position: absolute;border-left: 1px solid gray;box-sizing: border-box;top: 0;bottom: 0;left: 50%;z-index: 0;}#sk-container-id-3 div.sk-serial {display: flex;flex-direction: column;align-items: center;background-color: white;padding-right: 0.2em;padding-left: 0.2em;position: relative;}#sk-container-id-3 div.sk-item {position: relative;z-index: 1;}#sk-container-id-3 div.sk-parallel {display: flex;align-items: stretch;justify-content: center;background-color: white;position: relative;}#sk-container-id-3 div.sk-item::before, #sk-container-id-3 div.sk-parallel-item::before {content: \"\";position: absolute;border-left: 1px solid gray;box-sizing: border-box;top: 0;bottom: 0;left: 50%;z-index: -1;}#sk-container-id-3 div.sk-parallel-item {display: flex;flex-direction: column;z-index: 1;position: relative;background-color: white;}#sk-container-id-3 div.sk-parallel-item:first-child::after {align-self: flex-end;width: 50%;}#sk-container-id-3 div.sk-parallel-item:last-child::after {align-self: flex-start;width: 50%;}#sk-container-id-3 div.sk-parallel-item:only-child::after {width: 0;}#sk-container-id-3 div.sk-dashed-wrapped {border: 1px dashed gray;margin: 0 0.4em 0.5em 0.4em;box-sizing: border-box;padding-bottom: 0.4em;background-color: white;}#sk-container-id-3 div.sk-label label {font-family: monospace;font-weight: bold;display: inline-block;line-height: 1.2em;}#sk-container-id-3 div.sk-label-container {text-align: center;}#sk-container-id-3 div.sk-container {/* jupyter's `normalize.less` sets `[hidden] { display: none; }` but bootstrap.min.css set `[hidden] { display: none !important; }` so we also need the `!important` here to be able to override the default hidden behavior on the sphinx rendered scikit-learn.org. See: https://github.com/scikit-learn/scikit-learn/issues/21755 */display: inline-block !important;position: relative;}#sk-container-id-3 div.sk-text-repr-fallback {display: none;}</style><div id=\"sk-container-id-3\" class=\"sk-top-container\"><div class=\"sk-text-repr-fallback\"><pre>RandomForestClassifier(random_state=42)</pre><b>In a Jupyter environment, please rerun this cell to show the HTML representation or trust the notebook. <br />On GitHub, the HTML representation is unable to render, please try loading this page with nbviewer.org.</b></div><div class=\"sk-container\" hidden><div class=\"sk-item\"><div class=\"sk-estimator sk-toggleable\"><input class=\"sk-toggleable__control sk-hidden--visually\" id=\"sk-estimator-id-3\" type=\"checkbox\" checked><label for=\"sk-estimator-id-3\" class=\"sk-toggleable__label sk-toggleable__label-arrow\">RandomForestClassifier</label><div class=\"sk-toggleable__content\"><pre>RandomForestClassifier(random_state=42)</pre></div></div></div></div></div>"
      ],
      "text/plain": [
       "RandomForestClassifier(random_state=42)"
      ]
     },
     "execution_count": 60,
     "metadata": {},
     "output_type": "execute_result"
    }
   ],
   "source": [
    "rforest = RandomForestClassifier(random_state = 42)\n",
    "rforest.fit(X_train, y_train)"
   ]
  },
  {
   "cell_type": "code",
   "execution_count": 61,
   "id": "f4e9b3a3-9c99-4d96-8f35-09ad1ba9c0bc",
   "metadata": {},
   "outputs": [
    {
     "data": {
      "text/plain": [
       "(0.8089887640449438, (0.7878787878787878,), 0.7222222222222222)"
      ]
     },
     "execution_count": 61,
     "metadata": {},
     "output_type": "execute_result"
    }
   ],
   "source": [
    "rforest_pred = rforest.predict(X_test)\n",
    "rforest_acc = accuracy_score(y_test, rforest_pred)\n",
    "rforest_precision = precision_score(y_test, rforest_pred),\n",
    "rforest_recall = recall_score(y_test, rforest_pred)\n",
    "rforest_acc, rforest_precision, rforest_recall"
   ]
  },
  {
   "cell_type": "code",
   "execution_count": 62,
   "id": "2d132e86-4b6d-487b-99b1-d21f1736f4e9",
   "metadata": {},
   "outputs": [],
   "source": [
    "score_df = pd.DataFrame({'log': [log_acc, log_precision[0], log_recall],\n",
    "                         'dtree': [d_tree_acc, d_tree_precision[0], d_tree_recall],\n",
    "                         'rforest': [rforest_acc, rforest_precision[0], rforest_recall]\n",
    "                        }, index = ['Acc', 'Precision', 'Recall'])"
   ]
  },
  {
   "cell_type": "code",
   "execution_count": 63,
   "id": "9cd435ca-b512-48a2-8fc4-66806e56a78a",
   "metadata": {},
   "outputs": [
    {
     "data": {
      "text/html": [
       "<div>\n",
       "<style scoped>\n",
       "    .dataframe tbody tr th:only-of-type {\n",
       "        vertical-align: middle;\n",
       "    }\n",
       "\n",
       "    .dataframe tbody tr th {\n",
       "        vertical-align: top;\n",
       "    }\n",
       "\n",
       "    .dataframe thead th {\n",
       "        text-align: right;\n",
       "    }\n",
       "</style>\n",
       "<table border=\"1\" class=\"dataframe\">\n",
       "  <thead>\n",
       "    <tr style=\"text-align: right;\">\n",
       "      <th></th>\n",
       "      <th>Acc</th>\n",
       "      <th>Precision</th>\n",
       "      <th>Recall</th>\n",
       "    </tr>\n",
       "  </thead>\n",
       "  <tbody>\n",
       "    <tr>\n",
       "      <th>log</th>\n",
       "      <td>0.758427</td>\n",
       "      <td>0.683544</td>\n",
       "      <td>0.750000</td>\n",
       "    </tr>\n",
       "    <tr>\n",
       "      <th>dtree</th>\n",
       "      <td>0.769663</td>\n",
       "      <td>0.738462</td>\n",
       "      <td>0.666667</td>\n",
       "    </tr>\n",
       "    <tr>\n",
       "      <th>rforest</th>\n",
       "      <td>0.808989</td>\n",
       "      <td>0.787879</td>\n",
       "      <td>0.722222</td>\n",
       "    </tr>\n",
       "  </tbody>\n",
       "</table>\n",
       "</div>"
      ],
      "text/plain": [
       "              Acc  Precision    Recall\n",
       "log      0.758427   0.683544  0.750000\n",
       "dtree    0.769663   0.738462  0.666667\n",
       "rforest  0.808989   0.787879  0.722222"
      ]
     },
     "execution_count": 63,
     "metadata": {},
     "output_type": "execute_result"
    }
   ],
   "source": [
    "score_df.T"
   ]
  },
  {
   "cell_type": "code",
   "execution_count": 64,
   "id": "43ce10d7-557b-432b-a224-7d8ff3dbf89e",
   "metadata": {},
   "outputs": [
    {
     "data": {
      "text/plain": [
       "<Axes: ylabel='Acc'>"
      ]
     },
     "execution_count": 64,
     "metadata": {},
     "output_type": "execute_result"
    },
    {
     "data": {
      "image/png": "[encoded data removed]",
      "text/plain": [
       "<Figure size 640x480 with 1 Axes>"
      ]
     },
     "metadata": {},
     "output_type": "display_data"
    }
   ],
   "source": [
    "sns.barplot(data = score_df.T, x = score_df.T.index, y = 'Acc')"
   ]
  },
  {
   "cell_type": "markdown",
   "id": "e9682271-e1c1-4c7a-8eb5-6f9b336673d3",
   "metadata": {},
   "source": [
    "## Getting the Submission.csv ready"
   ]
  },
  {
   "cell_type": "code",
   "execution_count": 65,
   "id": "37600f20-0b8a-4232-a64b-6eedd28eb85a",
   "metadata": {},
   "outputs": [],
   "source": [
    "test_df = pd.read_csv('data/test.csv', index_col = ['PassengerId'])"
   ]
  },
  {
   "cell_type": "code",
   "execution_count": 83,
   "id": "f1d6712b-7a88-46c4-9251-98f1f5a6c7c2",
   "metadata": {},
   "outputs": [
    {
     "name": "stdout",
     "output_type": "stream",
     "text": [
      "<class 'pandas.core.frame.DataFrame'>\n",
      "Index: 418 entries, 892 to 1309\n",
      "Data columns (total 10 columns):\n",
      " #   Column    Non-Null Count  Dtype  \n",
      "---  ------    --------------  -----  \n",
      " 0   Pclass    418 non-null    int64  \n",
      " 1   Name      418 non-null    object \n",
      " 2   Sex       418 non-null    object \n",
      " 3   Age       332 non-null    float64\n",
      " 4   SibSp     418 non-null    int64  \n",
      " 5   Parch     418 non-null    int64  \n",
      " 6   Ticket    418 non-null    object \n",
      " 7   Fare      417 non-null    float64\n",
      " 8   Cabin     91 non-null     object \n",
      " 9   Embarked  418 non-null    object \n",
      "dtypes: float64(2), int64(3), object(5)\n",
      "memory usage: 35.9+ KB\n"
     ]
    },
    {
     "data": {
      "text/plain": [
       "(None,\n",
       " Index(['Pclass', 'Name', 'Sex', 'Age', 'SibSp', 'Parch', 'Ticket', 'Fare',\n",
       "        'Cabin', 'Embarked'],\n",
       "       dtype='object'),\n",
       " 418)"
      ]
     },
     "execution_count": 83,
     "metadata": {},
     "output_type": "execute_result"
    }
   ],
   "source": [
    "test_df.info(), test_df.columns, test_df.shape[0]"
   ]
  },
  {
   "cell_type": "code",
   "execution_count": 94,
   "id": "6ade92f1-470a-47e0-aa60-f6ee99e7a5aa",
   "metadata": {},
   "outputs": [],
   "source": [
    "# test_df['Embarked'].values.reshape(test_df.shape[0], 1)"
   ]
  },
  {
   "cell_type": "code",
   "execution_count": 98,
   "id": "586ffa45-42a5-4049-893a-6ea645bc0740",
   "metadata": {},
   "outputs": [],
   "source": [
    "def clean_data(df):\n",
    "    \n",
    "    # Copy the data\n",
    "    df = df.copy()\n",
    "    rows = df.shape[0]\n",
    "    \n",
    "    # Getting the HasFamily Column\n",
    "    df['HasFamily'] = (df['SibSp'] + df['Parch']) > 0\n",
    "    \n",
    "    # Cleaning the Name, Age, Cabin column\n",
    "    df.drop(['Name', 'Age', 'Cabin', 'SibSp', 'Parch', 'Ticket'], axis = 1, inplace = True)\n",
    "\n",
    "    # Setting one hot for the Sex and HasFamily Columns\n",
    "    one_hot = OneHotEncoder()\n",
    "    df = pd.get_dummies(df, columns = ['Sex', 'HasFamily'])\n",
    "\n",
    "    # Setting up ordinal conversion for the Embarked Column\n",
    "    ordinal = OrdinalEncoder()\n",
    "    embarked = df['Embarked'].values\n",
    "    df['Embarked'] = ordinal.fit_transform(embarked.reshape(rows, 1))\n",
    "    df['Embarked'] = df['Embarked'].astype('int')\n",
    "\n",
    "    # Cleaning the Fare Column\n",
    "    mean = df['Fare'].mean()\n",
    "    df['Fare'].fillna(mean, inplace = True)\n",
    "    mm_scaler = MinMaxScaler()\n",
    "    fare = df['Fare'].values\n",
    "    df['Fare'] = mm_scaler.fit_transform(fare.reshape(rows, 1))\n",
    "\n",
    "    return df"
   ]
  },
  {
   "cell_type": "code",
   "execution_count": 99,
   "id": "33bca150-7dca-4fca-a74f-91a75658d030",
   "metadata": {},
   "outputs": [],
   "source": [
    "cleaned_test_df =  clean_data(test_df)"
   ]
  },
  {
   "cell_type": "code",
   "execution_count": 101,
   "id": "3b44cc5e-fd8e-48d5-9bce-67b5dcdd36a6",
   "metadata": {},
   "outputs": [
    {
     "data": {
      "text/plain": [
       "Pclass             0\n",
       "Fare               0\n",
       "Embarked           0\n",
       "Sex_female         0\n",
       "Sex_male           0\n",
       "HasFamily_False    0\n",
       "HasFamily_True     0\n",
       "dtype: int64"
      ]
     },
     "execution_count": 101,
     "metadata": {},
     "output_type": "execute_result"
    }
   ],
   "source": [
    "cleaned_test_df.isna().sum()"
   ]
  },
  {
   "cell_type": "code",
   "execution_count": 102,
   "id": "68ca0095-fcb4-4b18-8586-f108dd3f4144",
   "metadata": {},
   "outputs": [],
   "source": [
    "test_predictions = rforest.predict(cleaned_test_df)"
   ]
  },
  {
   "cell_type": "code",
   "execution_count": 106,
   "id": "ddeb2c0e-6c8e-4b50-9135-c080db9410d4",
   "metadata": {},
   "outputs": [],
   "source": [
    "istSubmission = pd.DataFrame({'PassengerId': cleaned_test_df.index,'Survived ': test_predictions})"
   ]
  },
  {
   "cell_type": "code",
   "execution_count": 114,
   "id": "914c67dd-a4e7-417b-81a9-5baf674051f1",
   "metadata": {},
   "outputs": [],
   "source": [
    "# pd.to_csv()\n",
    "# istSubmission.to_csv('submissions/istSubmission')"
   ]
  },
  {
   "cell_type": "code",
   "execution_count": null,
   "id": "9a9d6690-60be-468b-a230-9bcf2b4c34a9",
   "metadata": {},
   "outputs": [],
   "source": []
  }
 ],
 "metadata": {
  "kernelspec": {
   "display_name": "Python 3 (ipykernel)",
   "language": "python",
   "name": "python3"
  },
  "language_info": {
   "codemirror_mode": {
    "name": "ipython",
    "version": 3
   },
   "file_extension": ".py",
   "mimetype": "text/x-python",
   "name": "python",
   "nbconvert_exporter": "python",
   "pygments_lexer": "ipython3",
   "version": "3.10.6"
  }
 },
 "nbformat": 4,
 "nbformat_minor": 5
}
